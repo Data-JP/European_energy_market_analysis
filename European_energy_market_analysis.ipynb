{
 "cells": [
  {
   "cell_type": "markdown",
   "id": "ba53e180",
   "metadata": {},
   "source": [
    "# Table of Contents\n",
    "1. [Data Collection & Preparation](#1-data-collection--preparation)\n",
    "    1. [Initial Setup & Testing](#11-initial-setup--testing)\n",
    "        1. [Initialize client](#111-initialize-client)\n",
    "        2. [Test Connection](#112-test-connection)\n",
    "    2. [Core Data Extraction Functions](#12-core-data-extraction-functions)\n",
    "        1. [Day-Ahead Prices](#121-day-ahead-prices)\n",
    "        2. [Cross-Border Flows](#122-cross-border-flows)\n",
    "        3. [Load Data](#123-load-data)\n",
    "    3. [Sample Data Collection Script](#13-sample-data-collection-script)\n",
    "    4. [Data Processing & Analysis Preparation](#14-data-processing--analysis-preparation)\n",
    "2. [Analysis & Insights](#2-analysis--insights)"
   ]
  },
  {
   "cell_type": "markdown",
   "id": "fabc028c",
   "metadata": {},
   "source": [
    "#  1. Data Collection & Preparation"
   ]
  },
  {
   "cell_type": "code",
   "execution_count": 4,
   "id": "7803fb31",
   "metadata": {},
   "outputs": [
    {
     "name": "stdout",
     "output_type": "stream",
     "text": [
      "Requirement already satisfied: entsoe-py in c:\\users\\j-p-f\\anaconda3\\lib\\site-packages (0.6.19)\n",
      "Requirement already satisfied: requests in c:\\users\\j-p-f\\anaconda3\\lib\\site-packages (from entsoe-py) (2.32.2)\n",
      "Requirement already satisfied: pytz in c:\\users\\j-p-f\\anaconda3\\lib\\site-packages (from entsoe-py) (2024.1)\n",
      "Requirement already satisfied: beautifulsoup4>=4.11.1 in c:\\users\\j-p-f\\anaconda3\\lib\\site-packages (from entsoe-py) (4.12.3)\n",
      "Requirement already satisfied: pandas>=2.2.0 in c:\\users\\j-p-f\\anaconda3\\lib\\site-packages (from entsoe-py) (2.2.3)\n",
      "Requirement already satisfied: soupsieve>1.2 in c:\\users\\j-p-f\\anaconda3\\lib\\site-packages (from beautifulsoup4>=4.11.1->entsoe-py) (2.5)\n",
      "Requirement already satisfied: numpy>=1.23.2 in c:\\users\\j-p-f\\anaconda3\\lib\\site-packages (from pandas>=2.2.0->entsoe-py) (1.26.4)\n",
      "Requirement already satisfied: python-dateutil>=2.8.2 in c:\\users\\j-p-f\\anaconda3\\lib\\site-packages (from pandas>=2.2.0->entsoe-py) (2.9.0.post0)\n",
      "Requirement already satisfied: tzdata>=2022.7 in c:\\users\\j-p-f\\anaconda3\\lib\\site-packages (from pandas>=2.2.0->entsoe-py) (2023.3)\n",
      "Requirement already satisfied: charset-normalizer<4,>=2 in c:\\users\\j-p-f\\anaconda3\\lib\\site-packages (from requests->entsoe-py) (2.0.4)\n",
      "Requirement already satisfied: idna<4,>=2.5 in c:\\users\\j-p-f\\anaconda3\\lib\\site-packages (from requests->entsoe-py) (3.7)\n",
      "Requirement already satisfied: urllib3<3,>=1.21.1 in c:\\users\\j-p-f\\anaconda3\\lib\\site-packages (from requests->entsoe-py) (2.2.2)\n",
      "Requirement already satisfied: certifi>=2017.4.17 in c:\\users\\j-p-f\\anaconda3\\lib\\site-packages (from requests->entsoe-py) (2024.12.14)\n",
      "Requirement already satisfied: six>=1.5 in c:\\users\\j-p-f\\anaconda3\\lib\\site-packages (from python-dateutil>=2.8.2->pandas>=2.2.0->entsoe-py) (1.16.0)\n"
     ]
    }
   ],
   "source": [
    "!pip install entsoe-py"
   ]
  },
  {
   "cell_type": "markdown",
   "id": "e6493988",
   "metadata": {},
   "source": [
    "## 1.1. Initial Setup & Testing"
   ]
  },
  {
   "cell_type": "code",
   "execution_count": 5,
   "id": "36078091",
   "metadata": {},
   "outputs": [],
   "source": [
    "#%% Import necessary libraries\n",
    "from entsoe import EntsoePandasClient\n",
    "import pandas as pd\n",
    "import numpy as np\n",
    "import seaborn as sns\n",
    "\n",
    "import matplotlib.pyplot as plt\n",
    "import plotly.express as px"
   ]
  },
  {
   "cell_type": "markdown",
   "id": "a29ead61",
   "metadata": {},
   "source": [
    "### 1.1.1. Initialize client  \n",
    "The API client is initialized with an API key to authenticate requests"
   ]
  },
  {
   "cell_type": "code",
   "execution_count": 6,
   "id": "d943740e",
   "metadata": {},
   "outputs": [],
   "source": [
    "#%% Initialize client\n",
    "API_KEY = \"0f2f4222-713f-49d2-85b7-04ddd5f2dc1c\"\n",
    "client = EntsoePandasClient(api_key=API_KEY)"
   ]
  },
  {
   "cell_type": "markdown",
   "id": "9e3dcfbd",
   "metadata": {},
   "source": [
    "### 1.1.2. Test Connection  \n",
    "This test ensures the API key is valid and the connection to ENTSO-E platform is working \n",
    "before proceeding with more complex queries.  \n",
    "A dictionary of country codes is defined mapping country names to their ENTSO-E bidding zone codes\n",
    "    - Includes Belgium, Netherlands, France, Germany/Luxembourg zone etc."
   ]
  },
  {
   "cell_type": "code",
   "execution_count": 7,
   "id": "0fd2807b",
   "metadata": {},
   "outputs": [],
   "source": [
    "# ENTSO-E country/bidding zone codes\n",
    "COUNTRIES = {\n",
    "    'Belgium': 'BE',\n",
    "    'Netherlands': 'NL', \n",
    "    'France': 'FR',\n",
    "    'Germany_Luxembourg': 'DE_LU',  # Germany-Luxembourg bidding zone\n",
    "    'Germany': 'DE',\n",
    "    'Luxembourg': 'LU'\n",
    "}"
   ]
  },
  {
   "cell_type": "code",
   "execution_count": 8,
   "id": "0dd4dc76",
   "metadata": {},
   "outputs": [
    {
     "data": {
      "text/plain": [
       "'DE_LU'"
      ]
     },
     "execution_count": 8,
     "metadata": {},
     "output_type": "execute_result"
    }
   ],
   "source": [
    "COUNTRIES[\"Germany_Luxembourg\"]"
   ]
  },
  {
   "cell_type": "code",
   "execution_count": 9,
   "id": "5cb09c59",
   "metadata": {},
   "outputs": [
    {
     "name": "stdout",
     "output_type": "stream",
     "text": [
      "✅ API connection successful!\n",
      "Retrieved 145 price points\n",
      "2024-01-01 00:00:00+01:00    0.10\n",
      "2024-01-01 01:00:00+01:00    0.01\n",
      "2024-01-01 02:00:00+01:00    0.00\n",
      "2024-01-01 03:00:00+01:00   -0.01\n",
      "2024-01-01 04:00:00+01:00   -0.03\n",
      "Freq: 60min, dtype: float64\n"
     ]
    },
    {
     "data": {
      "text/plain": [
       "True"
      ]
     },
     "execution_count": 9,
     "metadata": {},
     "output_type": "execute_result"
    }
   ],
   "source": [
    "def test_api_connection():\n",
    "    \"\"\"Test if API connection works\"\"\"\n",
    "    try:\n",
    "        # Test with a simple query - Belgian day-ahead prices for last week\n",
    "        start = pd.Timestamp('2024-01-01', tz='Europe/Brussels')\n",
    "        end = pd.Timestamp('2024-01-07', tz='Europe/Brussels')\n",
    "        \n",
    "        prices = client.query_day_ahead_prices('BE', start=start, end=end)\n",
    "        print(\"✅ API connection successful!\")\n",
    "        print(f\"Retrieved {len(prices)} price points\")\n",
    "        print(prices.head())\n",
    "        return True\n",
    "    except Exception as e:\n",
    "        print(f\"❌ API connection failed: {e}\")\n",
    "        return False\n",
    "\n",
    "# Run test\n",
    "test_api_connection()"
   ]
  },
  {
   "cell_type": "markdown",
   "id": "76d051fe",
   "metadata": {},
   "source": [
    "## 1.2. Core Data Extraction Functions  \n",
    "The ENTSO-E API provides access to different types of electricity market data. For our European Energy Market Analysis, we need three main data types:  \n",
    "\n",
    "1. **Day-Ahead Prices** - Electricity prices set one day before delivery\n",
    "2. **Cross-Border Flows** - Physical electricity flows between countries\n",
    "3. **Load Data** - Actual electricity consumption by country\n",
    "\n",
    "Let's extract them."
   ]
  },
  {
   "cell_type": "markdown",
   "id": "c65efd85",
   "metadata": {},
   "source": [
    "## 1.2.1. Day-Ahead Prices  \n",
    "In this subsection, a function is designed to fetch electricity pricing data from the ENTSO-E (European Network of Transmission System Operators for Electricity) platform for multiple European countries."
   ]
  },
  {
   "cell_type": "code",
   "execution_count": 10,
   "id": "bb3be4e7",
   "metadata": {},
   "outputs": [],
   "source": [
    "def get_day_ahead_prices(countries, start_date, end_date):\n",
    "    \"\"\"Extract day-ahead electricity prices for multiple countries from ENTSO-E platform.\n",
    "    \n",
    "    Args:\n",
    "        countries (dict): Dictionary mapping country names to their ENTSO-E bidding zone codes.\n",
    "            Example: {'Belgium': 'BE', 'France': 'FR'}\n",
    "        start_date (pd.Timestamp): Start date for data extraction, timezone-aware.\n",
    "        end_date (pd.Timestamp): End date for data extraction, timezone-aware.\n",
    "    \n",
    "    Returns:\n",
    "        dict: Dictionary containing pandas Series of day-ahead prices for each country.\n",
    "            Keys are country names, values are price series in EUR/MWh.\n",
    "            Example: {'Belgium': pd.Series(...), 'France': pd.Series(...)}\n",
    "    \n",
    "    Raises:\n",
    "        Exception: If API request fails for any country, error is printed but execution continues.\n",
    "    \n",
    "    Note:\n",
    "        - Prices are in EUR/MWh (Euro per megawatt-hour)\n",
    "        - Data is timezone-aware, typically in 'Europe/Brussels' timezone\n",
    "        - Data granularity is hourly\n",
    "        - Missing data points are possible due to API limitations\n",
    "    \"\"\"\n",
    "    prices_data = {}\n",
    "    \n",
    "    for country_name, country_code in countries.items():\n",
    "        try:\n",
    "            print(f\"Fetching day-ahead prices for {country_name}...\")\n",
    "            prices = client.query_day_ahead_prices(\n",
    "                country_code, \n",
    "                start=start_date, \n",
    "                end=end_date\n",
    "            )\n",
    "            prices_data[country_name] = prices\n",
    "            print(f\"✅ {country_name}: {len(prices)} records\")\n",
    "        except Exception as e:\n",
    "            print(f\"❌ Failed to get {country_name} data: {e}\")\n",
    "    \n",
    "    return prices_data"
   ]
  },
  {
   "cell_type": "markdown",
   "id": "e6902840",
   "metadata": {},
   "source": [
    "## 1.2.2. Cross-Border Flows  \n",
    "In this subsection, we focus on extracting cross-border physical electricity flows between European countries. \n",
    "These flows represent the actual electricity transferred between countries through interconnectors."
   ]
  },
  {
   "cell_type": "code",
   "execution_count": 11,
   "id": "ee50301b",
   "metadata": {},
   "outputs": [],
   "source": [
    "def get_cross_border_flows(from_country, to_country, start_date, end_date):\n",
    "    \"\"\"Extract physical electricity flows between two countries from ENTSO-E platform.\n",
    "    \n",
    "    Args:\n",
    "        from_country (str): Name of source country (e.g., 'France')\n",
    "        to_country (str): Name of destination country (e.g., 'Belgium')\n",
    "        start_date (pd.Timestamp): Start date for data extraction, timezone-aware\n",
    "        end_date (pd.Timestamp): End date for data extraction, timezone-aware\n",
    "    \n",
    "    Returns:\n",
    "        pd.Series: Time series of physical flows in MW (positive values indicate flow from source to destination).\n",
    "                  Returns None if request fails.\n",
    "                  \n",
    "    Note:\n",
    "        - Uses COUNTRIES dictionary to map country names to ENTSO-E codes\n",
    "        - Positive flow values indicate electricity flowing from source to destination country\n",
    "        - Flow values are in Megawatts (MW)\n",
    "        - Data granularity is hourly\n",
    "    \"\"\"\n",
    "    \n",
    "    try:\n",
    "        flows = client.query_crossborder_flows(\n",
    "            COUNTRIES[from_country], COUNTRIES[to_country], \n",
    "            start=start_date, end=end_date\n",
    "        )\n",
    "        print(f\"✅ Flows {from_country}->{to_country}: {len(flows)} records\")\n",
    "        return flows\n",
    "    except Exception as e:\n",
    "        print(f\"❌Failed to get flows {from_country}->{to_country}: {e}\")\n",
    "        return None"
   ]
  },
  {
   "cell_type": "markdown",
   "id": "53a5d1bf",
   "metadata": {},
   "source": [
    "## 1.2.3. Load Data\n",
    "This subsection deals with extracting actual electricity consumption (load) data."
   ]
  },
  {
   "cell_type": "code",
   "execution_count": 12,
   "id": "03519971",
   "metadata": {},
   "outputs": [],
   "source": [
    "def get_actual_load(countries, start_date, end_date):\n",
    "    \"\"\"Extract actual electricity consumption (load) data for multiple countries from ENTSO-E platform.\n",
    "    \n",
    "    Args:\n",
    "        countries (dict): Dictionary mapping country names to their ENTSO-E bidding zone codes.\n",
    "            Example: {'Belgium': 'BE', 'France': 'FR'}\n",
    "        start_date (pd.Timestamp): Start date for data extraction, timezone-aware.\n",
    "        end_date (pd.Timestamp): End date for data extraction, timezone-aware.\n",
    "    \n",
    "    Returns:\n",
    "        dict: Dictionary containing pandas Series of actual load for each country.\n",
    "            Keys are country names, values are load series in megawatts (MW).\n",
    "            Example: {'Belgium': pd.Series(...), 'France': pd.Series(...)}\n",
    "    \n",
    "    Raises:\n",
    "        Exception: If API request fails for any country, error is printed but execution continues.\n",
    "    \n",
    "    Note:\n",
    "        - Load values are in megawatts (MW)\n",
    "        - Data granularity is 15 minutes\n",
    "    \"\"\"\n",
    "    load_data = {}\n",
    "    \n",
    "    for country_name, country_code in countries.items():\n",
    "        try:\n",
    "            load = client.query_load(\n",
    "                country_code, \n",
    "                start=start_date, \n",
    "                end=end_date\n",
    "            )\n",
    "            load_data[country_name] =  load\n",
    "            print(f\"✅ Load data for {country_name}: {len(load)} records\")\n",
    "        except Exception as e:\n",
    "            print(f\"❌ Failed to get load data for {country_name}: {e}\")\n",
    "    \n",
    "    return load_data"
   ]
  },
  {
   "cell_type": "markdown",
   "id": "2915ec2c",
   "metadata": {},
   "source": [
    "## 1.3. Sample Data Collection Script  \n",
    "This section is focused on European electricity market data collection and analysis. Instead of manually calling each function multiple times, this script orchestrates the entire data collection process for your European Energy Market Analysis project."
   ]
  },
  {
   "cell_type": "code",
   "execution_count": 13,
   "id": "e0ccf479",
   "metadata": {},
   "outputs": [],
   "source": [
    "def collect_market_data(start_date='2023-01-01', end_date='2023-12-31'):\n",
    "    \"\"\"Collect comprehensive European electricity market data from ENTSO-E platform.\n",
    "    \n",
    "    Fetches three types of data:\n",
    "    1. Day-ahead electricity prices for all countries in COUNTRIES dict\n",
    "    2. Cross-border physical flows between Belgium and neighboring countries\n",
    "    3. Actual electricity load (consumption) data for all countries\n",
    "    \n",
    "    Args:\n",
    "        start_date (str): Start date in 'YYYY-MM-DD' format. Defaults to '2023-01-01'\n",
    "        end_date (str): End date in 'YYYY-MM-DD' format. Defaults to '2023-12-31'\n",
    "        \n",
    "    Returns:\n",
    "        dict: Dictionary containing three data types:\n",
    "            - 'prices': Day-ahead prices by country (EUR/MWh)\n",
    "            - 'flows': Cross-border flows between countries (MW)\n",
    "            - 'loads': Actual electricity consumption by country (MW)\n",
    "    \"\"\"\n",
    "    # Convert dates\n",
    "    start = pd.Timestamp(start_date, tz='Europe/Brussels')\n",
    "    end = pd.Timestamp(end_date, tz='Europe/Brussels')\n",
    "    \n",
    "    print(f\"Collecting data from {start_date} to {end_date}\")\n",
    "    print(\"=\" * 50)\n",
    "    \n",
    "    # 1. Day-ahead prices\n",
    "    print(\"1. Collecting day-ahead prices...\")\n",
    "    prices = get_day_ahead_prices(COUNTRIES, start, end)\n",
    "    \n",
    "    # 2. Cross-border flows (key connections to Belgium)\n",
    "    print(\"\\n2. Collecting cross-border flows...\")\n",
    "    flows = {}\n",
    "    # Create connections using country names\n",
    "    key_connections = [\n",
    "        ('France', 'Belgium'),  # France to Belgium\n",
    "        ('Netherlands', 'Belgium'),  # Netherlands to Belgium  \n",
    "        ('Germany_Luxembourg', 'Belgium'),  # Germany-Luxembourg to Belgium\n",
    "        ('Belgium', 'France'),  # Belgium to France\n",
    "        ('Belgium', 'Netherlands'),  # Belgium to Netherlands\n",
    "        ('Belgium', 'Germany_Luxembourg')   # Belgium to Germany-Luxembourg\n",
    "    ]\n",
    "    \n",
    "    for from_c, to_c in key_connections:\n",
    "        flow_name = f\"{COUNTRIES[from_c]}_to_{COUNTRIES[to_c]}\"\n",
    "        flows[flow_name] = get_cross_border_flows(from_c, to_c, \n",
    "                                                  start, end)\n",
    "    \n",
    "    # 3. Load data\n",
    "    print(\"\\n3. Collecting load data...\")\n",
    "    loads = get_actual_load(COUNTRIES, start, end)\n",
    "    \n",
    "    return {\n",
    "        'prices': prices,\n",
    "        'flows': flows, \n",
    "        'loads': loads\n",
    "    }\n",
    "\n",
    "# Execute data collection\n",
    "# market_data = collect_market_data('2023-01-01', '2023-12-31')"
   ]
  },
  {
   "cell_type": "markdown",
   "id": "28f369ee",
   "metadata": {},
   "source": [
    "# 1.4. Data Processing & Analysis Preparation"
   ]
  },
  {
   "cell_type": "code",
   "execution_count": 14,
   "id": "fb09bc26",
   "metadata": {},
   "outputs": [],
   "source": [
    "def clean_and_prepare_data(market_data, elect_type='prices'):\n",
    "    \"\"\"Clean and prepare ENTSO-E market data for analysis.\n",
    "    \n",
    "    This function processes raw market data from ENTSO-E API into a standardized DataFrame format.\n",
    "    It combines data from multiple countries into a single DataFrame with datetime index.\n",
    "    \n",
    "    Args:\n",
    "        market_data (dict): Dictionary containing market data with structure:\n",
    "            {\n",
    "                'prices': {country_name: price_series, ...},\n",
    "                'flows': {connection_name: flow_series, ...},\n",
    "                'loads': {country_name: load_series, ...}\n",
    "            }\n",
    "        data_type (str): Type of data to process. Options: 'prices', 'flows', 'loads'\n",
    "    \n",
    "    Returns:\n",
    "        pd.DataFrame: Cleaned DataFrame with columns:\n",
    "            - datetime (index): Timezone-aware timestamp\n",
    "            - value: Data value (price in EUR/MWh, flow in MW, or load in MW)\n",
    "            - country/connection: Country name or connection name\n",
    "    \"\"\"\n",
    "    \n",
    "    df = pd.DataFrame()\n",
    "    \n",
    "    if isinstance(market_data, dict) and elect_type in market_data:\n",
    "        data = market_data[elect_type]\n",
    "    else:\n",
    "        # Handle case where market_data is directly the data dictionary\n",
    "        data = market_data\n",
    "        \n",
    "    for key, values in data.items():\n",
    "        if values is not None:\n",
    "            # Ensure all values are scalars, not arrays\n",
    "            # Especially some array contains: [actual_load, forecast_load, day_ahead_forecast]\n",
    "            # Take only the first value (actual load)\n",
    "            scalar_values = [v[0] if isinstance(v, (np.ndarray, list)) else v for v in values.values]\n",
    "            temp_df = pd.DataFrame({\n",
    "             'datetime': values.index,\n",
    "                'value': scalar_values,\n",
    "                'entity': key\n",
    "        })\n",
    "        df = pd.concat([df, temp_df])\n",
    "    \n",
    "    # Reset index and set datetime as index\n",
    "    df = df.reset_index(drop=True)\n",
    "    df['datetime'] = pd.to_datetime(df['datetime'], utc=True)\n",
    "    df = df.set_index('datetime')\n",
    "    \n",
    "    # Rename columns based on data type\n",
    "    if elect_type == 'prices':\n",
    "        df = df.rename(columns={'value': 'price(EUR/MWh)', 'entity': 'country'})\n",
    "    elif elect_type == 'flows':\n",
    "        df = df.rename(columns={'value': 'flow(MW)', 'entity': 'connection'})\n",
    "    elif elect_type == 'loads':\n",
    "        df = df.rename(columns={'value': 'load(MW)', 'entity': 'country'})\n",
    "    \n",
    "    return df"
   ]
  },
  {
   "cell_type": "code",
   "execution_count": null,
   "id": "ce2f806c",
   "metadata": {},
   "outputs": [
    {
     "name": "stdout",
     "output_type": "stream",
     "text": [
      "Collecting data from 2021-01-01 to 2023-12-31\n",
      "==================================================\n",
      "1. Collecting day-ahead prices...\n",
      "Fetching day-ahead prices for Belgium...\n",
      "✅ Belgium: 26254 records\n",
      "Fetching day-ahead prices for Netherlands...\n",
      "✅ Netherlands: 26254 records\n",
      "Fetching day-ahead prices for France...\n",
      "✅ France: 26254 records\n",
      "Fetching day-ahead prices for Germany_Luxembourg...\n",
      "✅ Germany_Luxembourg: 26254 records\n",
      "Fetching day-ahead prices for Germany...\n",
      "❌ Failed to get Germany data: \n",
      "Fetching day-ahead prices for Luxembourg...\n",
      "❌ Failed to get Luxembourg data: \n",
      "\n",
      "2. Collecting cross-border flows...\n",
      "✅ Flows France->Belgium: 46339 records\n",
      "✅ Flows Netherlands->Belgium: 26254 records\n",
      "✅ Flows Germany_Luxembourg->Belgium: 105022 records\n",
      "✅ Flows Belgium->France: 46339 records\n",
      "✅ Flows Belgium->Netherlands: 26254 records\n",
      "✅ Flows Belgium->Germany_Luxembourg: 105022 records\n",
      "\n",
      "3. Collecting load data...\n",
      "✅ Load data for Belgium: 105022 records\n",
      "✅ Load data for Netherlands: 105022 records\n",
      "✅ Load data for France: 26219 records\n",
      "✅ Load data for Germany_Luxembourg: 105022 records\n",
      "✅ Load data for Germany: 105022 records\n",
      "✅ Load data for Luxembourg: 105022 records\n",
      "Collecting data from 2021-01-01 to 2023-12-31\n",
      "==================================================\n",
      "1. Collecting day-ahead prices...\n",
      "Fetching day-ahead prices for Belgium...\n",
      "✅ Belgium: 26254 records\n",
      "Fetching day-ahead prices for Netherlands...\n",
      "✅ Netherlands: 26254 records\n",
      "Fetching day-ahead prices for France...\n",
      "✅ France: 26254 records\n",
      "Fetching day-ahead prices for Germany_Luxembourg...\n",
      "✅ Germany_Luxembourg: 26254 records\n",
      "Fetching day-ahead prices for Germany...\n",
      "❌ Failed to get Germany data: \n",
      "Fetching day-ahead prices for Luxembourg...\n",
      "❌ Failed to get Luxembourg data: \n",
      "\n",
      "2. Collecting cross-border flows...\n",
      "✅ Flows France->Belgium: 46339 records\n",
      "✅ Flows Netherlands->Belgium: 26254 records\n",
      "✅ Flows Germany_Luxembourg->Belgium: 105022 records\n",
      "✅ Flows Belgium->France: 46339 records\n"
     ]
    },
    {
     "name": "stderr",
     "output_type": "stream",
     "text": [
      "Connection Error, retrying in 10 seconds\n"
     ]
    },
    {
     "name": "stdout",
     "output_type": "stream",
     "text": [
      "✅ Flows Belgium->Netherlands: 26254 records\n",
      "✅ Flows Belgium->Germany_Luxembourg: 105022 records\n",
      "\n",
      "3. Collecting load data...\n",
      "✅ Load data for Belgium: 105022 records\n",
      "✅ Load data for Netherlands: 105022 records\n",
      "✅ Load data for France: 26219 records\n",
      "✅ Load data for Germany_Luxembourg: 105022 records\n",
      "✅ Load data for Germany: 105022 records\n",
      "✅ Load data for Luxembourg: 105022 records\n",
      "Collecting data from 2021-01-01 to 2023-12-31\n",
      "==================================================\n",
      "1. Collecting day-ahead prices...\n",
      "Fetching day-ahead prices for Belgium...\n",
      "✅ Belgium: 26254 records\n",
      "Fetching day-ahead prices for Netherlands...\n",
      "✅ Netherlands: 26254 records\n",
      "Fetching day-ahead prices for France...\n",
      "✅ France: 26254 records\n",
      "Fetching day-ahead prices for Germany_Luxembourg...\n",
      "✅ Germany_Luxembourg: 26254 records\n",
      "Fetching day-ahead prices for Germany...\n",
      "❌ Failed to get Germany data: \n",
      "Fetching day-ahead prices for Luxembourg...\n",
      "❌ Failed to get Luxembourg data: \n",
      "\n",
      "2. Collecting cross-border flows...\n",
      "✅ Flows France->Belgium: 46339 records\n",
      "✅ Flows Netherlands->Belgium: 26254 records\n",
      "✅ Flows Germany_Luxembourg->Belgium: 105022 records\n",
      "✅ Flows Belgium->France: 46339 records\n",
      "✅ Flows Belgium->Netherlands: 26254 records\n",
      "✅ Flows Belgium->Germany_Luxembourg: 105022 records\n",
      "\n",
      "3. Collecting load data...\n",
      "✅ Load data for Belgium: 105022 records\n",
      "✅ Load data for Netherlands: 105022 records\n",
      "✅ Load data for France: 26219 records\n",
      "✅ Load data for Germany_Luxembourg: 105022 records\n",
      "✅ Load data for Germany: 105022 records\n",
      "✅ Load data for Luxembourg: 105022 records\n"
     ]
    }
   ],
   "source": [
    "# Electricity type dataframe\n",
    "prices_df=clean_and_prepare_data(collect_market_data(start_date='2021-01-01', end_date='2023-12-31'))\n",
    "flows_df=clean_and_prepare_data(collect_market_data(start_date='2021-01-01', end_date='2023-12-31'), \n",
    "                                'flows')\n",
    "loads_df=clean_and_prepare_data(collect_market_data(start_date='2021-01-01', end_date='2023-12-31'), \n",
    "                                'loads')\n"
   ]
  },
  {
   "cell_type": "code",
   "execution_count": 29,
   "id": "8428e8d2",
   "metadata": {},
   "outputs": [
    {
     "name": "stdout",
     "output_type": "stream",
     "text": [
      "Date range check:\n",
      "Prices: 2021-01-01 00:00:00+00:00 to 2023-12-30 22:00:00+00:00\n",
      "Flows: 2021-01-01 00:00:00+00:00 to 2023-12-30 22:45:00+00:00\n",
      "Loads: 2021-01-01 00:00:00+00:00 to 2023-12-30 22:45:00+00:00\n"
     ]
    }
   ],
   "source": [
    "# Filter out 2020 data from existing DataFrame\n",
    "prices_df = prices_df[prices_df.index.year >= 2021]\n",
    "flows_df = flows_df[flows_df.index.year >= 2021]\n",
    "loads_df = loads_df[loads_df.index.year >= 2021]\n",
    "\n",
    "# Verify the date range\n",
    "print(\"Date range check:\")\n",
    "print(f\"Prices: {prices_df.index.min()} to {prices_df.index.max()}\")\n",
    "print(f\"Flows: {flows_df.index.min()} to {flows_df.index.max()}\")\n",
    "print(f\"Loads: {loads_df.index.min()} to {loads_df.index.max()}\")"
   ]
  },
  {
   "cell_type": "code",
   "execution_count": 16,
   "id": "770abd6e",
   "metadata": {},
   "outputs": [],
   "source": [
    "def plot_prices(prices_df):\n",
    "    \"\"\"Plot day-ahead electricity prices for multiple countries.\n",
    "    \n",
    "    Args:\n",
    "        prices_df (pd.DataFrame): DataFrame containing price data with columns:\n",
    "            - datetime (index): Timezone-aware timestamp\n",
    "            - price: Price in EUR/MWh\n",
    "            - country: Country name\n",
    "    \"\"\"\n",
    "    plt.figure(figsize=(14, 8))\n",
    "    sns.lineplot(data=prices_df, x=prices_df.index, y='price', hue='country')\n",
    "    plt.title('Day-Ahead Electricity Prices by Country')\n",
    "    plt.xlabel('Date')\n",
    "    plt.ylabel('Price (EUR/MWh)')\n",
    "    plt.xticks(rotation=45)\n",
    "    plt.legend(title='Country')\n",
    "    plt.grid()\n",
    "    plt.tight_layout()\n",
    "    plt.show()\n"
   ]
  },
  {
   "cell_type": "code",
   "execution_count": 17,
   "id": "73c55351",
   "metadata": {},
   "outputs": [],
   "source": [
    "def visualize_prices(price_df):\n",
    "    \"\"\"Visualize day-ahead prices using seaborn and plotly\"\"\"\n",
    "    \n",
    "    # Seaborn line plot\n",
    "    plt.figure(figsize=(14, 7))\n",
    "    sns.lineplot(data=price_df, x=price_df.index, y='price', hue='country')\n",
    "    plt.title('Day-Ahead Electricity Prices by Country')\n",
    "    plt.xlabel('Date')\n",
    "    plt.ylabel('Price (EUR/MWh)')\n",
    "    plt.legend(title='Country')\n",
    "    plt.grid()\n",
    "    plt.show()\n",
    "    \n",
    "    # Plotly interactive plot\n",
    "    fig = px.line(price_df.reset_index(), x='datetime', y='price', color='country',\n",
    "                  title='Day-Ahead Electricity Prices by Country',\n",
    "                  labels={'datetime': 'Date', 'price': 'Price (EUR/MWh)', 'country': 'Country'})\n",
    "    fig.show()"
   ]
  },
  {
   "cell_type": "markdown",
   "id": "744b0be8",
   "metadata": {},
   "source": [
    "# 2. Analysis & Insights"
   ]
  },
  {
   "cell_type": "markdown",
   "id": "b552b1b7",
   "metadata": {},
   "source": [
    "## 2.1. Price volatility analysis\n",
    "Price volatility refers to the degree of variation in energy prices over a certain period of time—how much and how quickly prices can change.  \n",
    "\n",
    "In the energy industry, this often means how much the prices of commodities like oil, natural gas, coal, or electricity fluctuate over days, months, or years. These fluctuations can happen daily (short-term) or over longer periods (seasonal, yearly).  \n",
    "It's pertinent because:\n",
    "-  It affects businesses, consumers, and governments.\n",
    "-  It shapes investment strategies and market behavior."
   ]
  },
  {
   "cell_type": "code",
   "execution_count": 25,
   "id": "15e51bcf",
   "metadata": {},
   "outputs": [
    {
     "data": {
      "application/vnd.microsoft.datawrangler.viewer.v0+json": {
       "columns": [
        {
         "name": "datetime",
         "rawType": "datetime64[ns, UTC]",
         "type": "unknown"
        },
        {
         "name": "price(EUR/MWh)",
         "rawType": "float64",
         "type": "float"
        },
        {
         "name": "country",
         "rawType": "object",
         "type": "string"
        }
       ],
       "ref": "af829073-7fa4-4061-8884-e660e5e66ee5",
       "rows": [
        [
         "2020-12-31 23:00:00+00:00",
         "50.87",
         "Belgium"
        ],
        [
         "2021-01-01 00:00:00+00:00",
         "48.19",
         "Belgium"
        ],
        [
         "2021-01-01 01:00:00+00:00",
         "44.68",
         "Belgium"
        ],
        [
         "2021-01-01 02:00:00+00:00",
         "42.92",
         "Belgium"
        ],
        [
         "2021-01-01 03:00:00+00:00",
         "40.39",
         "Belgium"
        ]
       ],
       "shape": {
        "columns": 2,
        "rows": 5
       }
      },
      "text/html": [
       "<div>\n",
       "<style scoped>\n",
       "    .dataframe tbody tr th:only-of-type {\n",
       "        vertical-align: middle;\n",
       "    }\n",
       "\n",
       "    .dataframe tbody tr th {\n",
       "        vertical-align: top;\n",
       "    }\n",
       "\n",
       "    .dataframe thead th {\n",
       "        text-align: right;\n",
       "    }\n",
       "</style>\n",
       "<table border=\"1\" class=\"dataframe\">\n",
       "  <thead>\n",
       "    <tr style=\"text-align: right;\">\n",
       "      <th></th>\n",
       "      <th>price(EUR/MWh)</th>\n",
       "      <th>country</th>\n",
       "    </tr>\n",
       "    <tr>\n",
       "      <th>datetime</th>\n",
       "      <th></th>\n",
       "      <th></th>\n",
       "    </tr>\n",
       "  </thead>\n",
       "  <tbody>\n",
       "    <tr>\n",
       "      <th>2020-12-31 23:00:00+00:00</th>\n",
       "      <td>50.87</td>\n",
       "      <td>Belgium</td>\n",
       "    </tr>\n",
       "    <tr>\n",
       "      <th>2021-01-01 00:00:00+00:00</th>\n",
       "      <td>48.19</td>\n",
       "      <td>Belgium</td>\n",
       "    </tr>\n",
       "    <tr>\n",
       "      <th>2021-01-01 01:00:00+00:00</th>\n",
       "      <td>44.68</td>\n",
       "      <td>Belgium</td>\n",
       "    </tr>\n",
       "    <tr>\n",
       "      <th>2021-01-01 02:00:00+00:00</th>\n",
       "      <td>42.92</td>\n",
       "      <td>Belgium</td>\n",
       "    </tr>\n",
       "    <tr>\n",
       "      <th>2021-01-01 03:00:00+00:00</th>\n",
       "      <td>40.39</td>\n",
       "      <td>Belgium</td>\n",
       "    </tr>\n",
       "  </tbody>\n",
       "</table>\n",
       "</div>"
      ],
      "text/plain": [
       "                           price(EUR/MWh)  country\n",
       "datetime                                          \n",
       "2020-12-31 23:00:00+00:00           50.87  Belgium\n",
       "2021-01-01 00:00:00+00:00           48.19  Belgium\n",
       "2021-01-01 01:00:00+00:00           44.68  Belgium\n",
       "2021-01-01 02:00:00+00:00           42.92  Belgium\n",
       "2021-01-01 03:00:00+00:00           40.39  Belgium"
      ]
     },
     "execution_count": 25,
     "metadata": {},
     "output_type": "execute_result"
    }
   ],
   "source": [
    "# Visualize prices\n",
    "visualize_prices(prices_df)\n",
    "# Visualize flows"
   ]
  },
  {
   "cell_type": "code",
   "execution_count": 28,
   "id": "10a1f58e",
   "metadata": {},
   "outputs": [
    {
     "data": {
      "application/vnd.microsoft.datawrangler.viewer.v0+json": {
       "columns": [
        {
         "name": "datetime",
         "rawType": "int32",
         "type": "integer"
        },
        {
         "name": "('mean', 'Belgium')",
         "rawType": "float64",
         "type": "float"
        },
        {
         "name": "('mean', 'France')",
         "rawType": "float64",
         "type": "float"
        },
        {
         "name": "('mean', 'Germany_Luxembourg')",
         "rawType": "float64",
         "type": "float"
        },
        {
         "name": "('mean', 'Netherlands')",
         "rawType": "float64",
         "type": "float"
        },
        {
         "name": "('min', 'Belgium')",
         "rawType": "float64",
         "type": "float"
        },
        {
         "name": "('min', 'France')",
         "rawType": "float64",
         "type": "float"
        },
        {
         "name": "('min', 'Germany_Luxembourg')",
         "rawType": "float64",
         "type": "float"
        },
        {
         "name": "('min', 'Netherlands')",
         "rawType": "float64",
         "type": "float"
        },
        {
         "name": "('max', 'Belgium')",
         "rawType": "float64",
         "type": "float"
        },
        {
         "name": "('max', 'France')",
         "rawType": "float64",
         "type": "float"
        },
        {
         "name": "('max', 'Germany_Luxembourg')",
         "rawType": "float64",
         "type": "float"
        },
        {
         "name": "('max', 'Netherlands')",
         "rawType": "float64",
         "type": "float"
        }
       ],
       "ref": "be18dfbb-647d-478c-a49c-c1cac512c750",
       "rows": [
        [
         "2020",
         "50.87",
         "50.87",
         "50.87",
         "50.87",
         "50.87",
         "50.87",
         "50.87",
         "50.87",
         "50.87",
         "50.87",
         "50.87",
         "50.87"
        ],
        [
         "2021",
         "104.1341602922708",
         "109.1743772120105",
         "96.86022947825094",
         "102.98233245804316",
         "-70.0",
         "-66.18",
         "-69.0",
         "-66.18",
         "620.0",
         "620.0",
         "620.0",
         "620.0"
        ],
        [
         "2022",
         "244.5496118278342",
         "275.8996323781253",
         "235.46672222856492",
         "241.93680214636376",
         "-100.0",
         "-1.44",
         "-19.04",
         "-222.36",
         "871.0",
         "2987.78",
         "871.0",
         "871.0"
        ],
        [
         "2023",
         "97.51909101316542",
         "97.10718488838008",
         "95.4212318259874",
         "96.05165082999429",
         "-120.0",
         "-134.94",
         "-500.0",
         "-500.0",
         "330.36",
         "276.12",
         "524.27",
         "463.77"
        ]
       ],
       "shape": {
        "columns": 12,
        "rows": 4
       }
      },
      "text/html": [
       "<div>\n",
       "<style scoped>\n",
       "    .dataframe tbody tr th:only-of-type {\n",
       "        vertical-align: middle;\n",
       "    }\n",
       "\n",
       "    .dataframe tbody tr th {\n",
       "        vertical-align: top;\n",
       "    }\n",
       "\n",
       "    .dataframe thead tr th {\n",
       "        text-align: left;\n",
       "    }\n",
       "\n",
       "    .dataframe thead tr:last-of-type th {\n",
       "        text-align: right;\n",
       "    }\n",
       "</style>\n",
       "<table border=\"1\" class=\"dataframe\">\n",
       "  <thead>\n",
       "    <tr>\n",
       "      <th></th>\n",
       "      <th colspan=\"4\" halign=\"left\">mean</th>\n",
       "      <th colspan=\"4\" halign=\"left\">min</th>\n",
       "      <th colspan=\"4\" halign=\"left\">max</th>\n",
       "    </tr>\n",
       "    <tr>\n",
       "      <th>country</th>\n",
       "      <th>Belgium</th>\n",
       "      <th>France</th>\n",
       "      <th>Germany_Luxembourg</th>\n",
       "      <th>Netherlands</th>\n",
       "      <th>Belgium</th>\n",
       "      <th>France</th>\n",
       "      <th>Germany_Luxembourg</th>\n",
       "      <th>Netherlands</th>\n",
       "      <th>Belgium</th>\n",
       "      <th>France</th>\n",
       "      <th>Germany_Luxembourg</th>\n",
       "      <th>Netherlands</th>\n",
       "    </tr>\n",
       "    <tr>\n",
       "      <th>datetime</th>\n",
       "      <th></th>\n",
       "      <th></th>\n",
       "      <th></th>\n",
       "      <th></th>\n",
       "      <th></th>\n",
       "      <th></th>\n",
       "      <th></th>\n",
       "      <th></th>\n",
       "      <th></th>\n",
       "      <th></th>\n",
       "      <th></th>\n",
       "      <th></th>\n",
       "    </tr>\n",
       "  </thead>\n",
       "  <tbody>\n",
       "    <tr>\n",
       "      <th>2020</th>\n",
       "      <td>50.870000</td>\n",
       "      <td>50.870000</td>\n",
       "      <td>50.870000</td>\n",
       "      <td>50.870000</td>\n",
       "      <td>50.87</td>\n",
       "      <td>50.87</td>\n",
       "      <td>50.87</td>\n",
       "      <td>50.87</td>\n",
       "      <td>50.87</td>\n",
       "      <td>50.87</td>\n",
       "      <td>50.87</td>\n",
       "      <td>50.87</td>\n",
       "    </tr>\n",
       "    <tr>\n",
       "      <th>2021</th>\n",
       "      <td>104.134160</td>\n",
       "      <td>109.174377</td>\n",
       "      <td>96.860229</td>\n",
       "      <td>102.982332</td>\n",
       "      <td>-70.00</td>\n",
       "      <td>-66.18</td>\n",
       "      <td>-69.00</td>\n",
       "      <td>-66.18</td>\n",
       "      <td>620.00</td>\n",
       "      <td>620.00</td>\n",
       "      <td>620.00</td>\n",
       "      <td>620.00</td>\n",
       "    </tr>\n",
       "    <tr>\n",
       "      <th>2022</th>\n",
       "      <td>244.549612</td>\n",
       "      <td>275.899632</td>\n",
       "      <td>235.466722</td>\n",
       "      <td>241.936802</td>\n",
       "      <td>-100.00</td>\n",
       "      <td>-1.44</td>\n",
       "      <td>-19.04</td>\n",
       "      <td>-222.36</td>\n",
       "      <td>871.00</td>\n",
       "      <td>2987.78</td>\n",
       "      <td>871.00</td>\n",
       "      <td>871.00</td>\n",
       "    </tr>\n",
       "    <tr>\n",
       "      <th>2023</th>\n",
       "      <td>97.519091</td>\n",
       "      <td>97.107185</td>\n",
       "      <td>95.421232</td>\n",
       "      <td>96.051651</td>\n",
       "      <td>-120.00</td>\n",
       "      <td>-134.94</td>\n",
       "      <td>-500.00</td>\n",
       "      <td>-500.00</td>\n",
       "      <td>330.36</td>\n",
       "      <td>276.12</td>\n",
       "      <td>524.27</td>\n",
       "      <td>463.77</td>\n",
       "    </tr>\n",
       "  </tbody>\n",
       "</table>\n",
       "</div>"
      ],
      "text/plain": [
       "                mean                                                min  \\\n",
       "country      Belgium      France Germany_Luxembourg Netherlands Belgium   \n",
       "datetime                                                                  \n",
       "2020       50.870000   50.870000          50.870000   50.870000   50.87   \n",
       "2021      104.134160  109.174377          96.860229  102.982332  -70.00   \n",
       "2022      244.549612  275.899632         235.466722  241.936802 -100.00   \n",
       "2023       97.519091   97.107185          95.421232   96.051651 -120.00   \n",
       "\n",
       "                                                    max           \\\n",
       "country   France Germany_Luxembourg Netherlands Belgium   France   \n",
       "datetime                                                           \n",
       "2020       50.87              50.87       50.87   50.87    50.87   \n",
       "2021      -66.18             -69.00      -66.18  620.00   620.00   \n",
       "2022       -1.44             -19.04     -222.36  871.00  2987.78   \n",
       "2023     -134.94            -500.00     -500.00  330.36   276.12   \n",
       "\n",
       "                                         \n",
       "country  Germany_Luxembourg Netherlands  \n",
       "datetime                                 \n",
       "2020                  50.87       50.87  \n",
       "2021                 620.00      620.00  \n",
       "2022                 871.00      871.00  \n",
       "2023                 524.27      463.77  "
      ]
     },
     "execution_count": 28,
     "metadata": {},
     "output_type": "execute_result"
    }
   ],
   "source": [
    "prices_df.pivot_table(\n",
    "    index=prices_df.index.year,  # Group by year\n",
    "    columns='country',\n",
    "    values='price(EUR/MWh)',\n",
    "    aggfunc=['mean', 'min', 'max']  # Get statistics per year\n",
    ")"
   ]
  },
  {
   "cell_type": "code",
   "execution_count": null,
   "id": "740bc0b4",
   "metadata": {},
   "outputs": [],
   "source": [
    "pivot_table = flows_df.pivot_table(index=flows_df.index, columns='connection', values='flow(MW)')\n",
    "def visualize_flows(flows_df):\n",
    "    \"\"\"Visualize cross-border electricity flows using seaborn and plotly\"\"\"\n",
    "    \n",
    "    # Seaborn heatmap\n",
    "    plt.figure(figsize=(14, 8))\n",
    "    sns.heatmap(flows_df.pivot_table(index=flows_df.index, columns='connection', values='flow(MW)'),\n",
    "                cmap='coolwarm', annot=False)\n",
    "    plt.title('Cross-Border Electricity Flows (MW)')\n",
    "    plt.xlabel('Connection')\n",
    "    plt.ylabel('Date')\n",
    "    plt.xticks(rotation=45)\n",
    "    plt.tight_layout()\n",
    "    plt.show()\n",
    "    \n",
    "    # Plotly interactive heatmap\n",
    "    fig = px.imshow(pivot_table.T, \n",
    "                    labels=dict(x=\"Date\", y=\"Connection\", color=\"Flow (MW)\"),\n",
    "                    x=flows_df.index, y=pivot_table.columns,\n",
    "                    title='Cross-Border Electricity Flows (MW)')\n",
    "    fig.update_xaxes(tickangle=45)\n",
    "    fig.show()"
   ]
  },
  {
   "cell_type": "code",
   "execution_count": 31,
   "id": "66d4d558",
   "metadata": {},
   "outputs": [],
   "source": [
    " # Pivot to have countries as columns\n",
    "prices_pivot = prices_df.pivot(columns='country', values='price(EUR/MWh)')\n",
    "    \n",
    "# Add year column for annual analysis\n",
    "prices_pivot['year'] = prices_pivot.index.year"
   ]
  },
  {
   "cell_type": "code",
   "execution_count": 33,
   "id": "65141124",
   "metadata": {},
   "outputs": [
    {
     "name": "stdout",
     "output_type": "stream",
     "text": [
      "✅ Data loaded: 26253 hours across 4 countries\n",
      "📅 Date range: 2021-01-01 00:00:00+00:00 to 2023-12-30 22:00:00+00:00\n",
      "🌍 Countries: ['Belgium', 'France', 'Germany_Luxembourg', 'Netherlands']\n",
      "📊 Coverage: {2021: 8759, 2022: 8759, 2023: 8735} hours per year\n"
     ]
    }
   ],
   "source": [
    "print(f\"✅ Data loaded: {len(prices_pivot)} hours across {len(prices_pivot.columns)-1} countries\")\n",
    "print(f\"📅 Date range: {prices_pivot.index.min()} to {prices_pivot.index.max()}\")\n",
    "print(f\"🌍 Countries: {[col for col in prices_pivot.columns if col != 'year']}\")\n",
    "print(f\"📊 Coverage: {prices_pivot['year'].value_counts().sort_index().to_dict()} hours per year\")"
   ]
  },
  {
   "cell_type": "code",
   "execution_count": null,
   "id": "d7234d2b",
   "metadata": {},
   "outputs": [],
   "source": [
    "# Remove year column from main dataframe but keep for reference\n",
    "year_data = prices_pivot['year']\n",
    "prices_pivot = prices_pivot.drop('year', axis=1)"
   ]
  }
 ],
 "metadata": {
  "kernelspec": {
   "display_name": "base",
   "language": "python",
   "name": "python3"
  },
  "language_info": {
   "codemirror_mode": {
    "name": "ipython",
    "version": 3
   },
   "file_extension": ".py",
   "mimetype": "text/x-python",
   "name": "python",
   "nbconvert_exporter": "python",
   "pygments_lexer": "ipython3",
   "version": "3.11.9"
  }
 },
 "nbformat": 4,
 "nbformat_minor": 5
}
