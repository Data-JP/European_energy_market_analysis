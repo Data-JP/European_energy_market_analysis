{
 "cells": [
  {
   "cell_type": "markdown",
   "id": "131e4a7d",
   "metadata": {},
   "source": [
    "# Table of Contents\n",
    "1. [Initial Setup & Testing](#1-initial-setup--testing)\n",
    "   1. [Initialize client](#11-initialize-client)\n",
    "   2. [Test Connection](#12-test-connection)\n",
    "2. [Core Data Extraction Functions](#2-core-data-extraction-functions)"
   ]
  },
  {
   "cell_type": "code",
   "execution_count": 81,
   "id": "7803fb31",
   "metadata": {},
   "outputs": [
    {
     "name": "stdout",
     "output_type": "stream",
     "text": [
      "Requirement already satisfied: entsoe-py in c:\\users\\j-p-f\\anaconda3\\lib\\site-packages (0.6.19)\n",
      "Requirement already satisfied: requests in c:\\users\\j-p-f\\anaconda3\\lib\\site-packages (from entsoe-py) (2.32.2)\n",
      "Requirement already satisfied: pytz in c:\\users\\j-p-f\\anaconda3\\lib\\site-packages (from entsoe-py) (2024.1)\n",
      "Requirement already satisfied: beautifulsoup4>=4.11.1 in c:\\users\\j-p-f\\anaconda3\\lib\\site-packages (from entsoe-py) (4.12.3)\n",
      "Requirement already satisfied: pandas>=2.2.0 in c:\\users\\j-p-f\\anaconda3\\lib\\site-packages (from entsoe-py) (2.2.3)\n",
      "Requirement already satisfied: soupsieve>1.2 in c:\\users\\j-p-f\\anaconda3\\lib\\site-packages (from beautifulsoup4>=4.11.1->entsoe-py) (2.5)\n",
      "Requirement already satisfied: numpy>=1.23.2 in c:\\users\\j-p-f\\anaconda3\\lib\\site-packages (from pandas>=2.2.0->entsoe-py) (1.26.4)\n",
      "Requirement already satisfied: python-dateutil>=2.8.2 in c:\\users\\j-p-f\\anaconda3\\lib\\site-packages (from pandas>=2.2.0->entsoe-py) (2.9.0.post0)\n",
      "Requirement already satisfied: tzdata>=2022.7 in c:\\users\\j-p-f\\anaconda3\\lib\\site-packages (from pandas>=2.2.0->entsoe-py) (2023.3)\n",
      "Requirement already satisfied: charset-normalizer<4,>=2 in c:\\users\\j-p-f\\anaconda3\\lib\\site-packages (from requests->entsoe-py) (2.0.4)\n",
      "Requirement already satisfied: idna<4,>=2.5 in c:\\users\\j-p-f\\anaconda3\\lib\\site-packages (from requests->entsoe-py) (3.7)\n",
      "Requirement already satisfied: urllib3<3,>=1.21.1 in c:\\users\\j-p-f\\anaconda3\\lib\\site-packages (from requests->entsoe-py) (2.2.2)\n",
      "Requirement already satisfied: certifi>=2017.4.17 in c:\\users\\j-p-f\\anaconda3\\lib\\site-packages (from requests->entsoe-py) (2024.12.14)\n",
      "Requirement already satisfied: six>=1.5 in c:\\users\\j-p-f\\anaconda3\\lib\\site-packages (from python-dateutil>=2.8.2->pandas>=2.2.0->entsoe-py) (1.16.0)\n"
     ]
    }
   ],
   "source": [
    "!pip install entsoe-py"
   ]
  },
  {
   "cell_type": "markdown",
   "id": "e6493988",
   "metadata": {},
   "source": [
    "# 1. Initial Setup & Testing"
   ]
  },
  {
   "cell_type": "code",
   "execution_count": 82,
   "id": "36078091",
   "metadata": {},
   "outputs": [],
   "source": [
    "#%% Import necessary libraries\n",
    "from entsoe import EntsoePandasClient\n",
    "import pandas as pd\n",
    "import numpy as np\n",
    "import seaborn as sns\n",
    "\n",
    "import matplotlib.pyplot as plt\n",
    "import plotly.express as px"
   ]
  },
  {
   "cell_type": "markdown",
   "id": "a29ead61",
   "metadata": {},
   "source": [
    "## 1.1. Initialize client  \n",
    "The API client is initialized with an API key to authenticate requests"
   ]
  },
  {
   "cell_type": "code",
   "execution_count": 83,
   "id": "d943740e",
   "metadata": {},
   "outputs": [],
   "source": [
    "#%% Initialize client\n",
    "API_KEY = \"0f2f4222-713f-49d2-85b7-04ddd5f2dc1c\"\n",
    "client = EntsoePandasClient(api_key=API_KEY)"
   ]
  },
  {
   "cell_type": "markdown",
   "id": "9e3dcfbd",
   "metadata": {},
   "source": [
    "## 1.2. Test Connection  \n",
    "This test ensures the API key is valid and the connection to ENTSO-E platform is working \n",
    "before proceeding with more complex queries.  \n",
    "A dictionary of country codes is defined mapping country names to their ENTSO-E bidding zone codes\n",
    "    - Includes Belgium, Netherlands, France, Germany/Luxembourg zone etc."
   ]
  },
  {
   "cell_type": "code",
   "execution_count": 84,
   "id": "0fd2807b",
   "metadata": {},
   "outputs": [],
   "source": [
    "# ENTSO-E country/bidding zone codes\n",
    "COUNTRIES = {\n",
    "    'Belgium': 'BE',\n",
    "    'Netherlands': 'NL', \n",
    "    'France': 'FR',\n",
    "    'Germany_Luxembourg': 'DE_LU',  # Germany-Luxembourg bidding zone\n",
    "    'Germany': 'DE',\n",
    "    'Luxembourg': 'LU'\n",
    "}"
   ]
  },
  {
   "cell_type": "code",
   "execution_count": 85,
   "id": "0dd4dc76",
   "metadata": {},
   "outputs": [
    {
     "data": {
      "text/plain": [
       "'DE_LU'"
      ]
     },
     "execution_count": 85,
     "metadata": {},
     "output_type": "execute_result"
    }
   ],
   "source": [
    "COUNTRIES[\"Germany_Luxembourg\"]"
   ]
  },
  {
   "cell_type": "code",
   "execution_count": 86,
   "id": "5cb09c59",
   "metadata": {},
   "outputs": [
    {
     "name": "stdout",
     "output_type": "stream",
     "text": [
      "✅ API connection successful!\n",
      "Retrieved 145 price points\n",
      "2024-01-01 00:00:00+01:00    0.10\n",
      "2024-01-01 01:00:00+01:00    0.01\n",
      "2024-01-01 02:00:00+01:00    0.00\n",
      "2024-01-01 03:00:00+01:00   -0.01\n",
      "2024-01-01 04:00:00+01:00   -0.03\n",
      "Freq: 60min, dtype: float64\n"
     ]
    },
    {
     "data": {
      "text/plain": [
       "True"
      ]
     },
     "execution_count": 86,
     "metadata": {},
     "output_type": "execute_result"
    }
   ],
   "source": [
    "def test_api_connection():\n",
    "    \"\"\"Test if API connection works\"\"\"\n",
    "    try:\n",
    "        # Test with a simple query - Belgian day-ahead prices for last week\n",
    "        start = pd.Timestamp('2024-01-01', tz='Europe/Brussels')\n",
    "        end = pd.Timestamp('2024-01-07', tz='Europe/Brussels')\n",
    "        \n",
    "        prices = client.query_day_ahead_prices('BE', start=start, end=end)\n",
    "        print(\"✅ API connection successful!\")\n",
    "        print(f\"Retrieved {len(prices)} price points\")\n",
    "        print(prices.head())\n",
    "        return True\n",
    "    except Exception as e:\n",
    "        print(f\"❌ API connection failed: {e}\")\n",
    "        return False\n",
    "\n",
    "# Run test\n",
    "test_api_connection()"
   ]
  },
  {
   "cell_type": "markdown",
   "id": "76d051fe",
   "metadata": {},
   "source": [
    "# 2. Core Data Extraction Functions  \n",
    "The ENTSO-E API provides access to different types of electricity market data. For our European Energy Market Analysis, we need three main data types:  \n",
    "\n",
    "1. **Day-Ahead Prices** - Electricity prices set one day before delivery\n",
    "2. **Cross-Border Flows** - Physical electricity flows between countries\n",
    "3. **Load Data** - Actual electricity consumption by country\n",
    "\n",
    "Let's extract them."
   ]
  },
  {
   "cell_type": "markdown",
   "id": "c65efd85",
   "metadata": {},
   "source": [
    "## 2.1. Day-Ahead Prices  \n",
    "In this subsection, a function is designed to fetch electricity pricing data from the ENTSO-E (European Network of Transmission System Operators for Electricity) platform for multiple European countries."
   ]
  },
  {
   "cell_type": "code",
   "execution_count": null,
   "id": "bb3be4e7",
   "metadata": {},
   "outputs": [],
   "source": [
    "def get_day_ahead_prices(countries, start_date, end_date):\n",
    "    \"\"\"Extract day-ahead electricity prices for multiple countries from ENTSO-E platform.\n",
    "    \n",
    "    Args:\n",
    "        countries (dict): Dictionary mapping country names to their ENTSO-E bidding zone codes.\n",
    "            Example: {'Belgium': 'BE', 'France': 'FR'}\n",
    "        start_date (pd.Timestamp): Start date for data extraction, timezone-aware.\n",
    "        end_date (pd.Timestamp): End date for data extraction, timezone-aware.\n",
    "    \n",
    "    Returns:\n",
    "        dict: Dictionary containing pandas Series of day-ahead prices for each country.\n",
    "            Keys are country names, values are price series in EUR/MWh.\n",
    "            Example: {'Belgium': pd.Series(...), 'France': pd.Series(...)}\n",
    "    \n",
    "    Raises:\n",
    "        Exception: If API request fails for any country, error is printed but execution continues.\n",
    "    \n",
    "    Note:\n",
    "        - Prices are in EUR/MWh (Euro per megawatt-hour)\n",
    "        - Data is timezone-aware, typically in 'Europe/Brussels' timezone\n",
    "        - Data granularity is hourly\n",
    "        - Missing data points are possible due to API limitations\n",
    "    \"\"\"\n",
    "    prices_data = {}\n",
    "    \n",
    "    for country_name, country_code in countries.items():\n",
    "        try:\n",
    "            print(f\"Fetching day-ahead prices for {country_name}...\")\n",
    "            prices = client.query_day_ahead_prices(\n",
    "                country_code, \n",
    "                start=start_date, \n",
    "                end=end_date\n",
    "            )\n",
    "            prices_data[country_name] = prices\n",
    "            print(f\"✅ {country_name}: {len(prices)} records\")\n",
    "        except Exception as e:\n",
    "            print(f\"❌ Failed to get {country_name} data: {e}\")\n",
    "    \n",
    "    return prices_data"
   ]
  },
  {
   "cell_type": "markdown",
   "id": "e6902840",
   "metadata": {},
   "source": [
    "## 2.2. Cross-Border Flows  \n",
    "In this subsection, we focus on extracting cross-border physical electricity flows between European countries. \n",
    "These flows represent the actual electricity transferred between countries through interconnectors."
   ]
  },
  {
   "cell_type": "code",
   "execution_count": 88,
   "id": "ee50301b",
   "metadata": {},
   "outputs": [],
   "source": [
    "def get_cross_border_flows(from_country, to_country, start_date, end_date):\n",
    "    \"\"\"Extract physical electricity flows between two countries from ENTSO-E platform.\n",
    "    \n",
    "    Args:\n",
    "        from_country (str): Name of source country (e.g., 'France')\n",
    "        to_country (str): Name of destination country (e.g., 'Belgium')\n",
    "        start_date (pd.Timestamp): Start date for data extraction, timezone-aware\n",
    "        end_date (pd.Timestamp): End date for data extraction, timezone-aware\n",
    "    \n",
    "    Returns:\n",
    "        pd.Series: Time series of physical flows in MW (positive values indicate flow from source to destination).\n",
    "                  Returns None if request fails.\n",
    "                  \n",
    "    Note:\n",
    "        - Uses COUNTRIES dictionary to map country names to ENTSO-E codes\n",
    "        - Positive flow values indicate electricity flowing from source to destination country\n",
    "        - Flow values are in Megawatts (MW)\n",
    "        - Data granularity is hourly\n",
    "    \"\"\"\n",
    "    \n",
    "    try:\n",
    "        flows = client.query_crossborder_flows(\n",
    "            COUNTRIES[from_country], COUNTRIES[to_country], \n",
    "            start=start_date, end=end_date\n",
    "        )\n",
    "        print(f\"✅ Flows {from_country}->{to_country}: {len(flows)} records\")\n",
    "        return flows\n",
    "    except Exception as e:\n",
    "        print(f\"❌Failed to get flows {from_country}->{to_country}: {e}\")\n",
    "        return None"
   ]
  },
  {
   "cell_type": "markdown",
   "id": "53a5d1bf",
   "metadata": {},
   "source": [
    "## 2.3. Load Data\n",
    "This subsection deals with extracting actual electricity consumption (load) data."
   ]
  },
  {
   "cell_type": "code",
   "execution_count": null,
   "id": "03519971",
   "metadata": {},
   "outputs": [],
   "source": [
    "def get_actual_load(countries, start_date, end_date):\n",
    "    \"\"\"Extract actual electricity consumption (load) data for multiple countries from ENTSO-E platform.\n",
    "    \n",
    "    Args:\n",
    "        countries (dict): Dictionary mapping country names to their ENTSO-E bidding zone codes.\n",
    "            Example: {'Belgium': 'BE', 'France': 'FR'}\n",
    "        start_date (pd.Timestamp): Start date for data extraction, timezone-aware.\n",
    "        end_date (pd.Timestamp): End date for data extraction, timezone-aware.\n",
    "    \n",
    "    Returns:\n",
    "        dict: Dictionary containing pandas Series of actual load for each country.\n",
    "            Keys are country names, values are load series in megawatts (MW).\n",
    "            Example: {'Belgium': pd.Series(...), 'France': pd.Series(...)}\n",
    "    \n",
    "    Raises:\n",
    "        Exception: If API request fails for any country, error is printed but execution continues.\n",
    "    \n",
    "    Note:\n",
    "        - Load values are in megawatts (MW)\n",
    "        - Data granularity is 15 minutes\n",
    "    \"\"\"\n",
    "    load_data = {}\n",
    "    \n",
    "    for country_name, country_code in countries.items():\n",
    "        try:\n",
    "            load = client.query_load(\n",
    "                country_code, \n",
    "                start=start_date, \n",
    "                end=end_date\n",
    "            )\n",
    "            load_data[country_name] =  load\n",
    "            print(f\"✅ Load data for {country_name}: {len(load)} records\")\n",
    "        except Exception as e:\n",
    "            print(f\"❌ Failed to get load data for {country_name}: {e}\")\n",
    "    \n",
    "    return load_data"
   ]
  },
  {
   "cell_type": "markdown",
   "id": "2915ec2c",
   "metadata": {},
   "source": [
    "# 3. Sample Data Collection Script  \n",
    "This section is focused on European electricity market data collection and analysis. Instead of manually calling each function multiple times, this script orchestrates the entire data collection process for your European Energy Market Analysis project."
   ]
  },
  {
   "cell_type": "code",
   "execution_count": 105,
   "id": "e0ccf479",
   "metadata": {},
   "outputs": [],
   "source": [
    "def collect_market_data(start_date='2023-01-01', end_date='2023-12-31'):\n",
    "    \"\"\"Collect comprehensive European electricity market data from ENTSO-E platform.\n",
    "    \n",
    "    Fetches three types of data:\n",
    "    1. Day-ahead electricity prices for all countries in COUNTRIES dict\n",
    "    2. Cross-border physical flows between Belgium and neighboring countries\n",
    "    3. Actual electricity load (consumption) data for all countries\n",
    "    \n",
    "    Args:\n",
    "        start_date (str): Start date in 'YYYY-MM-DD' format. Defaults to '2023-01-01'\n",
    "        end_date (str): End date in 'YYYY-MM-DD' format. Defaults to '2023-12-31'\n",
    "        \n",
    "    Returns:\n",
    "        dict: Dictionary containing three data types:\n",
    "            - 'prices': Day-ahead prices by country (EUR/MWh)\n",
    "            - 'flows': Cross-border flows between countries (MW)\n",
    "            - 'loads': Actual electricity consumption by country (MW)\n",
    "    \"\"\"\n",
    "    # Convert dates\n",
    "    start = pd.Timestamp(start_date, tz='Europe/Brussels')\n",
    "    end = pd.Timestamp(end_date, tz='Europe/Brussels')\n",
    "    \n",
    "    print(f\"Collecting data from {start_date} to {end_date}\")\n",
    "    print(\"=\" * 50)\n",
    "    \n",
    "    # 1. Day-ahead prices\n",
    "    print(\"1. Collecting day-ahead prices...\")\n",
    "    prices = get_day_ahead_prices(COUNTRIES, start, end)\n",
    "    \n",
    "    # 2. Cross-border flows (key connections to Belgium)\n",
    "    print(\"\\n2. Collecting cross-border flows...\")\n",
    "    flows = {}\n",
    "    # Create connections using country names\n",
    "    key_connections = [\n",
    "        ('France', 'Belgium'),  # France to Belgium\n",
    "        ('Netherlands', 'Belgium'),  # Netherlands to Belgium  \n",
    "        ('Germany_Luxembourg', 'Belgium'),  # Germany-Luxembourg to Belgium\n",
    "        ('Belgium', 'France'),  # Belgium to France\n",
    "        ('Belgium', 'Netherlands'),  # Belgium to Netherlands\n",
    "        ('Belgium', 'Germany_Luxembourg')   # Belgium to Germany-Luxembourg\n",
    "    ]\n",
    "    \n",
    "    for from_c, to_c in key_connections:\n",
    "        flow_name = f\"{COUNTRIES[from_c]}_to_{COUNTRIES[to_c]}\"\n",
    "        flows[flow_name] = get_cross_border_flows(from_c, to_c, \n",
    "                                                  start, end)\n",
    "    \n",
    "    # 3. Load data\n",
    "    print(\"\\n3. Collecting load data...\")\n",
    "    loads = get_actual_load(COUNTRIES, start, end)\n",
    "    \n",
    "    return {\n",
    "        'prices': prices,\n",
    "        'flows': flows, \n",
    "        'loads': loads\n",
    "    }\n",
    "\n",
    "# Execute data collection\n",
    "# market_data = collect_market_data('2023-01-01', '2023-12-31')"
   ]
  },
  {
   "cell_type": "markdown",
   "id": "28f369ee",
   "metadata": {},
   "source": [
    "# 4. Data Processing & Analysis Preparation"
   ]
  },
  {
   "cell_type": "code",
   "execution_count": 123,
   "id": "fb09bc26",
   "metadata": {},
   "outputs": [],
   "source": [
    "def clean_and_prepare_data(market_data, elect_type='prices'):\n",
    "    \"\"\"Clean and prepare ENTSO-E market data for analysis.\n",
    "    \n",
    "    This function processes raw market data from ENTSO-E API into a standardized DataFrame format.\n",
    "    It combines data from multiple countries into a single DataFrame with datetime index.\n",
    "    \n",
    "    Args:\n",
    "        market_data (dict): Dictionary containing market data with structure:\n",
    "            {\n",
    "                'prices': {country_name: price_series, ...},\n",
    "                'flows': {connection_name: flow_series, ...},\n",
    "                'loads': {country_name: load_series, ...}\n",
    "            }\n",
    "        data_type (str): Type of data to process. Options: 'prices', 'flows', 'loads'\n",
    "    \n",
    "    Returns:\n",
    "        pd.DataFrame: Cleaned DataFrame with columns:\n",
    "            - datetime (index): Timezone-aware timestamp\n",
    "            - value: Data value (price in EUR/MWh, flow in MW, or load in MW)\n",
    "            - country/connection: Country name or connection name\n",
    "    \"\"\"\n",
    "    \n",
    "    df = pd.DataFrame()\n",
    "    \n",
    "    if isinstance(market_data, dict) and elect_type in market_data:\n",
    "        data = market_data[elect_type]\n",
    "    else:\n",
    "        # Handle case where market_data is directly the data dictionary\n",
    "        data = market_data\n",
    "        \n",
    "    for key, values in data.items():\n",
    "        if values is not None:\n",
    "            # Ensure all values are scalars, not arrays\n",
    "            # Especially some array contains: [actual_load, forecast_load, day_ahead_forecast]\n",
    "            # Take only the first value (actual load)\n",
    "            scalar_values = [v[0] if isinstance(v, (np.ndarray, list)) else v for v in values.values]\n",
    "            temp_df = pd.DataFrame({\n",
    "             'datetime': values.index,\n",
    "                'value': scalar_values,\n",
    "                'entity': key\n",
    "        })\n",
    "        df = pd.concat([df, temp_df])\n",
    "    \n",
    "    # Reset index and set datetime as index\n",
    "    df = df.reset_index(drop=True)\n",
    "    df['datetime'] = pd.to_datetime(df['datetime'], utc=True)\n",
    "    df = df.set_index('datetime')\n",
    "    \n",
    "    # Rename columns based on data type\n",
    "    if elect_type == 'prices':\n",
    "        df = df.rename(columns={'value': 'price(EUR/MWh)', 'entity': 'country'})\n",
    "    elif elect_type == 'flows':\n",
    "        df = df.rename(columns={'value': 'flow(MW)', 'entity': 'connection'})\n",
    "    elif elect_type == 'loads':\n",
    "        df = df.rename(columns={'value': 'load(MW)', 'entity': 'country'})\n",
    "    \n",
    "    return df"
   ]
  },
  {
   "cell_type": "code",
   "execution_count": 124,
   "id": "ce2f806c",
   "metadata": {},
   "outputs": [
    {
     "name": "stdout",
     "output_type": "stream",
     "text": [
      "Collecting data from 2023-01-01 to 2023-12-31\n",
      "==================================================\n",
      "1. Collecting day-ahead prices...\n",
      "Fetching day-ahead prices for Belgium...\n",
      "✅ Belgium: 8736 records\n",
      "Fetching day-ahead prices for Netherlands...\n",
      "✅ Netherlands: 8736 records\n",
      "Fetching day-ahead prices for France...\n",
      "✅ France: 8736 records\n",
      "Fetching day-ahead prices for Germany_Luxembourg...\n",
      "✅ Germany_Luxembourg: 8736 records\n",
      "Fetching day-ahead prices for Germany...\n",
      "❌ Failed to get Germany data: \n",
      "Fetching day-ahead prices for Luxembourg...\n",
      "❌ Failed to get Luxembourg data: \n",
      "\n",
      "2. Collecting cross-border flows...\n",
      "✅ Flows France->Belgium: 28821 records\n",
      "✅ Flows Netherlands->Belgium: 8736 records\n",
      "✅ Flows Germany_Luxembourg->Belgium: 34944 records\n",
      "✅ Flows Belgium->France: 28821 records\n"
     ]
    },
    {
     "name": "stderr",
     "output_type": "stream",
     "text": [
      "Connection Error, retrying in 10 seconds\n"
     ]
    },
    {
     "name": "stdout",
     "output_type": "stream",
     "text": [
      "✅ Flows Belgium->Netherlands: 8736 records\n",
      "✅ Flows Belgium->Germany_Luxembourg: 34944 records\n",
      "\n",
      "3. Collecting load data...\n",
      "✅ Load data for Belgium: 34944 records\n",
      "✅ Load data for Netherlands: 34944 records\n",
      "✅ Load data for France: 8731 records\n",
      "✅ Load data for Germany_Luxembourg: 34944 records\n",
      "✅ Load data for Germany: 34944 records\n",
      "✅ Load data for Luxembourg: 34944 records\n",
      "Collecting data from 2023-01-01 to 2023-12-31\n",
      "==================================================\n",
      "1. Collecting day-ahead prices...\n",
      "Fetching day-ahead prices for Belgium...\n",
      "✅ Belgium: 8736 records\n",
      "Fetching day-ahead prices for Netherlands...\n",
      "✅ Netherlands: 8736 records\n",
      "Fetching day-ahead prices for France...\n",
      "✅ France: 8736 records\n",
      "Fetching day-ahead prices for Germany_Luxembourg...\n",
      "✅ Germany_Luxembourg: 8736 records\n",
      "Fetching day-ahead prices for Germany...\n",
      "❌ Failed to get Germany data: \n",
      "Fetching day-ahead prices for Luxembourg...\n",
      "❌ Failed to get Luxembourg data: \n",
      "\n",
      "2. Collecting cross-border flows...\n",
      "✅ Flows France->Belgium: 28821 records\n",
      "✅ Flows Netherlands->Belgium: 8736 records\n",
      "✅ Flows Germany_Luxembourg->Belgium: 34944 records\n",
      "✅ Flows Belgium->France: 28821 records\n",
      "✅ Flows Belgium->Netherlands: 8736 records\n",
      "✅ Flows Belgium->Germany_Luxembourg: 34944 records\n",
      "\n",
      "3. Collecting load data...\n",
      "✅ Load data for Belgium: 34944 records\n",
      "✅ Load data for Netherlands: 34944 records\n",
      "✅ Load data for France: 8731 records\n",
      "✅ Load data for Germany_Luxembourg: 34944 records\n",
      "✅ Load data for Germany: 34944 records\n",
      "✅ Load data for Luxembourg: 34944 records\n",
      "Collecting data from 2023-01-01 to 2023-12-31\n",
      "==================================================\n",
      "1. Collecting day-ahead prices...\n",
      "Fetching day-ahead prices for Belgium...\n",
      "✅ Belgium: 8736 records\n",
      "Fetching day-ahead prices for Netherlands...\n",
      "✅ Netherlands: 8736 records\n",
      "Fetching day-ahead prices for France...\n",
      "✅ France: 8736 records\n",
      "Fetching day-ahead prices for Germany_Luxembourg...\n",
      "✅ Germany_Luxembourg: 8736 records\n",
      "Fetching day-ahead prices for Germany...\n",
      "❌ Failed to get Germany data: \n",
      "Fetching day-ahead prices for Luxembourg...\n",
      "❌ Failed to get Luxembourg data: \n",
      "\n",
      "2. Collecting cross-border flows...\n",
      "✅ Flows France->Belgium: 28821 records\n",
      "✅ Flows Netherlands->Belgium: 8736 records\n",
      "✅ Flows Germany_Luxembourg->Belgium: 34944 records\n",
      "✅ Flows Belgium->France: 28821 records\n",
      "✅ Flows Belgium->Netherlands: 8736 records\n",
      "✅ Flows Belgium->Germany_Luxembourg: 34944 records\n",
      "\n",
      "3. Collecting load data...\n",
      "✅ Load data for Belgium: 34944 records\n",
      "✅ Load data for Netherlands: 34944 records\n",
      "✅ Load data for France: 8731 records\n",
      "✅ Load data for Germany_Luxembourg: 34944 records\n",
      "✅ Load data for Germany: 34944 records\n",
      "✅ Load data for Luxembourg: 34944 records\n"
     ]
    }
   ],
   "source": [
    "# Electricity type dataframe\n",
    "price_df=clean_and_prepare_data(collect_market_data())\n",
    "flows_df=clean_and_prepare_data(collect_market_data(), 'flows')\n",
    "loads_df=clean_and_prepare_data(collect_market_data(), 'loads')\n"
   ]
  },
  {
   "cell_type": "code",
   "execution_count": null,
   "id": "770abd6e",
   "metadata": {},
   "outputs": [
    {
     "name": "stdout",
     "output_type": "stream",
     "text": [
      "✅ Load data for Belgium: 576 records\n",
      "✅ Load data for Netherlands: 576 records\n",
      "✅ Load data for France: 144 records\n",
      "✅ Load data for Germany_Luxembourg: 576 records\n",
      "✅ Load data for Germany: 576 records\n",
      "✅ Load data for Luxembourg: 576 records\n"
     ]
    }
   ],
   "source": [
    "def plot_prices(prices_df):\n",
    "    \"\"\"Plot day-ahead electricity prices for multiple countries.\n",
    "    \n",
    "    Args:\n",
    "        prices_df (pd.DataFrame): DataFrame containing price data with columns:\n",
    "            - datetime (index): Timezone-aware timestamp\n",
    "            - price: Price in EUR/MWh\n",
    "            - country: Country name\n",
    "    \"\"\"\n",
    "    plt.figure(figsize=(14, 8))\n",
    "    sns.lineplot(data=prices_df, x=prices_df.index, y='price', hue='country')\n",
    "    plt.title('Day-Ahead Electricity Prices by Country')\n",
    "    plt.xlabel('Date')\n",
    "    plt.ylabel('Price (EUR/MWh)')\n",
    "    plt.xticks(rotation=45)\n",
    "    plt.legend(title='Country')\n",
    "    plt.grid()\n",
    "    plt.tight_layout()\n",
    "    plt.show()\n"
   ]
  },
  {
   "cell_type": "code",
   "execution_count": null,
   "id": "73c55351",
   "metadata": {},
   "outputs": [
    {
     "name": "stdout",
     "output_type": "stream",
     "text": [
      "✅ Load data for Belgium: 576 records\n",
      "✅ Load data for Netherlands: 576 records\n",
      "✅ Load data for France: 144 records\n",
      "✅ Load data for Germany_Luxembourg: 576 records\n",
      "✅ Load data for Germany: 576 records\n",
      "✅ Load data for Luxembourg: 576 records\n"
     ]
    },
    {
     "ename": "KeyError",
     "evalue": "'prices'",
     "output_type": "error",
     "traceback": [
      "\u001b[1;31m---------------------------------------------------------------------------\u001b[0m",
      "\u001b[1;31mKeyError\u001b[0m                                  Traceback (most recent call last)",
      "Cell \u001b[1;32mIn[53], line 1\u001b[0m\n\u001b[1;32m----> 1\u001b[0m clean_and_prepare_data(get_actual_load(COUNTRIES, \n\u001b[0;32m      2\u001b[0m                                        pd\u001b[38;5;241m.\u001b[39mTimestamp(\u001b[38;5;124m'\u001b[39m\u001b[38;5;124m2024-01-01\u001b[39m\u001b[38;5;124m'\u001b[39m, \n\u001b[0;32m      3\u001b[0m                                                     tz\u001b[38;5;241m=\u001b[39m\u001b[38;5;124m'\u001b[39m\u001b[38;5;124mEurope/Brussels\u001b[39m\u001b[38;5;124m'\u001b[39m), \n\u001b[0;32m      4\u001b[0m                 pd\u001b[38;5;241m.\u001b[39mTimestamp(\u001b[38;5;124m'\u001b[39m\u001b[38;5;124m2024-01-07\u001b[39m\u001b[38;5;124m'\u001b[39m, tz\u001b[38;5;241m=\u001b[39m\u001b[38;5;124m'\u001b[39m\u001b[38;5;124mEurope/Brussels\u001b[39m\u001b[38;5;124m'\u001b[39m)))\n\u001b[0;32m      5\u001b[0m \u001b[38;5;28;01mdef\u001b[39;00m \u001b[38;5;21mvisualize_prices\u001b[39m(price_df):\n\u001b[0;32m      6\u001b[0m \u001b[38;5;250m    \u001b[39m\u001b[38;5;124;03m\"\"\"Visualize day-ahead prices using seaborn and plotly\"\"\"\u001b[39;00m\n",
      "Cell \u001b[1;32mIn[50], line 6\u001b[0m, in \u001b[0;36mclean_and_prepare_data\u001b[1;34m(market_data)\u001b[0m\n\u001b[0;32m      4\u001b[0m \u001b[38;5;66;03m# Combine price data into single DataFrame\u001b[39;00m\n\u001b[0;32m      5\u001b[0m price_df \u001b[38;5;241m=\u001b[39m pd\u001b[38;5;241m.\u001b[39mDataFrame()\n\u001b[1;32m----> 6\u001b[0m \u001b[38;5;28;01mfor\u001b[39;00m country, prices \u001b[38;5;129;01min\u001b[39;00m market_data[\u001b[38;5;124m'\u001b[39m\u001b[38;5;124mprices\u001b[39m\u001b[38;5;124m'\u001b[39m]\u001b[38;5;241m.\u001b[39mitems():\n\u001b[0;32m      7\u001b[0m     \u001b[38;5;28;01mif\u001b[39;00m prices \u001b[38;5;129;01mis\u001b[39;00m \u001b[38;5;129;01mnot\u001b[39;00m \u001b[38;5;28;01mNone\u001b[39;00m:\n\u001b[0;32m      8\u001b[0m         temp_df \u001b[38;5;241m=\u001b[39m pd\u001b[38;5;241m.\u001b[39mDataFrame({\n\u001b[0;32m      9\u001b[0m             \u001b[38;5;124m'\u001b[39m\u001b[38;5;124mdatetime\u001b[39m\u001b[38;5;124m'\u001b[39m: prices\u001b[38;5;241m.\u001b[39mindex,\n\u001b[0;32m     10\u001b[0m             \u001b[38;5;124m'\u001b[39m\u001b[38;5;124mprice\u001b[39m\u001b[38;5;124m'\u001b[39m: prices\u001b[38;5;241m.\u001b[39mvalues,\n\u001b[0;32m     11\u001b[0m             \u001b[38;5;124m'\u001b[39m\u001b[38;5;124mcountry\u001b[39m\u001b[38;5;124m'\u001b[39m: country\n\u001b[0;32m     12\u001b[0m         })\n",
      "\u001b[1;31mKeyError\u001b[0m: 'prices'"
     ]
    }
   ],
   "source": [
    "def visualize_prices(price_df):\n",
    "    \"\"\"Visualize day-ahead prices using seaborn and plotly\"\"\"\n",
    "    \n",
    "    # Seaborn line plot\n",
    "    plt.figure(figsize=(14, 7))\n",
    "    sns.lineplot(data=price_df, x=price_df.index, y='price', hue='country')\n",
    "    plt.title('Day-Ahead Electricity Prices by Country')\n",
    "    plt.xlabel('Date')\n",
    "    plt.ylabel('Price (EUR/MWh)')\n",
    "    plt.legend(title='Country')\n",
    "    plt.grid()\n",
    "    plt.show()\n",
    "    \n",
    "    # Plotly interactive plot\n",
    "    fig = px.line(price_df.reset_index(), x='datetime', y='price', color='country',\n",
    "                  title='Day-Ahead Electricity Prices by Country',\n",
    "                  labels={'datetime': 'Date', 'price': 'Price (EUR/MWh)', 'country': 'Country'})\n",
    "    fig.show()"
   ]
  }
 ],
 "metadata": {
  "kernelspec": {
   "display_name": "base",
   "language": "python",
   "name": "python3"
  },
  "language_info": {
   "codemirror_mode": {
    "name": "ipython",
    "version": 3
   },
   "file_extension": ".py",
   "mimetype": "text/x-python",
   "name": "python",
   "nbconvert_exporter": "python",
   "pygments_lexer": "ipython3",
   "version": "3.11.9"
  }
 },
 "nbformat": 4,
 "nbformat_minor": 5
}
