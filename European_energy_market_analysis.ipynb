{
 "cells": [
  {
   "cell_type": "markdown",
   "id": "131e4a7d",
   "metadata": {},
   "source": [
    "# Table of Contents\n",
    "1. [Initial Setup & Testing](#1-initial-setup--testing)\n",
    "   1. [Initialize client](#11-initialize-client)\n",
    "   2. [Test Connection](#12-test-connection)\n",
    "2. [Core Data Extraction Functions](#2-core-data-extraction-functions)"
   ]
  },
  {
   "cell_type": "code",
   "execution_count": 1,
   "id": "7803fb31",
   "metadata": {},
   "outputs": [
    {
     "name": "stdout",
     "output_type": "stream",
     "text": [
      "Collecting entsoe-py\n",
      "  Downloading entsoe_py-0.6.19-py3-none-any.whl.metadata (10 kB)\n",
      "Requirement already satisfied: requests in c:\\users\\j-p-f\\anaconda3\\lib\\site-packages (from entsoe-py) (2.32.2)\n",
      "Requirement already satisfied: pytz in c:\\users\\j-p-f\\anaconda3\\lib\\site-packages (from entsoe-py) (2024.1)\n",
      "Requirement already satisfied: beautifulsoup4>=4.11.1 in c:\\users\\j-p-f\\anaconda3\\lib\\site-packages (from entsoe-py) (4.12.3)\n",
      "Collecting pandas>=2.2.0 (from entsoe-py)\n",
      "  Downloading pandas-2.2.3-cp311-cp311-win_amd64.whl.metadata (19 kB)\n",
      "Requirement already satisfied: soupsieve>1.2 in c:\\users\\j-p-f\\anaconda3\\lib\\site-packages (from beautifulsoup4>=4.11.1->entsoe-py) (2.5)\n",
      "Requirement already satisfied: numpy>=1.23.2 in c:\\users\\j-p-f\\anaconda3\\lib\\site-packages (from pandas>=2.2.0->entsoe-py) (1.26.4)\n",
      "Requirement already satisfied: python-dateutil>=2.8.2 in c:\\users\\j-p-f\\anaconda3\\lib\\site-packages (from pandas>=2.2.0->entsoe-py) (2.9.0.post0)\n",
      "Requirement already satisfied: tzdata>=2022.7 in c:\\users\\j-p-f\\anaconda3\\lib\\site-packages (from pandas>=2.2.0->entsoe-py) (2023.3)\n",
      "Requirement already satisfied: charset-normalizer<4,>=2 in c:\\users\\j-p-f\\anaconda3\\lib\\site-packages (from requests->entsoe-py) (2.0.4)\n",
      "Requirement already satisfied: idna<4,>=2.5 in c:\\users\\j-p-f\\anaconda3\\lib\\site-packages (from requests->entsoe-py) (3.7)\n",
      "Requirement already satisfied: urllib3<3,>=1.21.1 in c:\\users\\j-p-f\\anaconda3\\lib\\site-packages (from requests->entsoe-py) (2.2.2)\n",
      "Requirement already satisfied: certifi>=2017.4.17 in c:\\users\\j-p-f\\anaconda3\\lib\\site-packages (from requests->entsoe-py) (2024.12.14)\n",
      "Requirement already satisfied: six>=1.5 in c:\\users\\j-p-f\\anaconda3\\lib\\site-packages (from python-dateutil>=2.8.2->pandas>=2.2.0->entsoe-py) (1.16.0)\n",
      "Downloading entsoe_py-0.6.19-py3-none-any.whl (1.6 MB)\n",
      "   ---------------------------------------- 0.0/1.6 MB ? eta -:--:--\n",
      "   ---------------------------------------- 0.0/1.6 MB ? eta -:--:--\n",
      "   - -------------------------------------- 0.0/1.6 MB 653.6 kB/s eta 0:00:03\n",
      "   ---- ----------------------------------- 0.2/1.6 MB 1.5 MB/s eta 0:00:01\n",
      "   --------- ------------------------------ 0.4/1.6 MB 2.4 MB/s eta 0:00:01\n",
      "   --------------- ------------------------ 0.6/1.6 MB 3.1 MB/s eta 0:00:01\n",
      "   -------------------- ------------------- 0.8/1.6 MB 3.5 MB/s eta 0:00:01\n",
      "   -------------------------------- ------- 1.3/1.6 MB 4.1 MB/s eta 0:00:01\n",
      "   ---------------------------------------  1.6/1.6 MB 4.6 MB/s eta 0:00:01\n",
      "   ---------------------------------------- 1.6/1.6 MB 4.3 MB/s eta 0:00:00\n",
      "Downloading pandas-2.2.3-cp311-cp311-win_amd64.whl (11.6 MB)\n",
      "   ---------------------------------------- 0.0/11.6 MB ? eta -:--:--\n",
      "   ---------------------------------------- 0.1/11.6 MB 7.0 MB/s eta 0:00:02\n",
      "   - -------------------------------------- 0.6/11.6 MB 7.1 MB/s eta 0:00:02\n",
      "   --- ------------------------------------ 1.0/11.6 MB 7.6 MB/s eta 0:00:02\n",
      "   ---- ----------------------------------- 1.3/11.6 MB 7.6 MB/s eta 0:00:02\n",
      "   ----- ---------------------------------- 1.7/11.6 MB 7.6 MB/s eta 0:00:02\n",
      "   ------ --------------------------------- 2.0/11.6 MB 7.5 MB/s eta 0:00:02\n",
      "   ------- -------------------------------- 2.1/11.6 MB 6.8 MB/s eta 0:00:02\n",
      "   -------- ------------------------------- 2.5/11.6 MB 6.8 MB/s eta 0:00:02\n",
      "   ---------- ----------------------------- 3.1/11.6 MB 7.5 MB/s eta 0:00:02\n",
      "   ------------ --------------------------- 3.7/11.6 MB 7.9 MB/s eta 0:00:01\n",
      "   -------------- ------------------------- 4.3/11.6 MB 8.4 MB/s eta 0:00:01\n",
      "   ---------------- ----------------------- 4.8/11.6 MB 8.8 MB/s eta 0:00:01\n",
      "   ------------------ --------------------- 5.4/11.6 MB 9.0 MB/s eta 0:00:01\n",
      "   -------------------- ------------------- 5.9/11.6 MB 9.1 MB/s eta 0:00:01\n",
      "   --------------------- ------------------ 6.2/11.6 MB 9.1 MB/s eta 0:00:01\n",
      "   ----------------------- ---------------- 6.7/11.6 MB 9.1 MB/s eta 0:00:01\n",
      "   ------------------------ --------------- 7.1/11.6 MB 9.1 MB/s eta 0:00:01\n",
      "   -------------------------- ------------- 7.6/11.6 MB 9.3 MB/s eta 0:00:01\n",
      "   -------------------------- ------------- 7.7/11.6 MB 9.1 MB/s eta 0:00:01\n",
      "   --------------------------- ------------ 7.9/11.6 MB 8.7 MB/s eta 0:00:01\n",
      "   ---------------------------- ----------- 8.2/11.6 MB 8.5 MB/s eta 0:00:01\n",
      "   ----------------------------- ---------- 8.5/11.6 MB 8.4 MB/s eta 0:00:01\n",
      "   ------------------------------ --------- 8.9/11.6 MB 8.4 MB/s eta 0:00:01\n",
      "   ------------------------------- -------- 9.2/11.6 MB 8.4 MB/s eta 0:00:01\n",
      "   --------------------------------- ------ 9.6/11.6 MB 8.4 MB/s eta 0:00:01\n",
      "   ---------------------------------- ----- 10.0/11.6 MB 8.4 MB/s eta 0:00:01\n",
      "   ---------------------------------- ----- 10.1/11.6 MB 8.3 MB/s eta 0:00:01\n",
      "   ------------------------------------ --- 10.5/11.6 MB 8.3 MB/s eta 0:00:01\n",
      "   ------------------------------------- -- 10.8/11.6 MB 8.3 MB/s eta 0:00:01\n",
      "   -------------------------------------- - 11.3/11.6 MB 8.4 MB/s eta 0:00:01\n",
      "   ---------------------------------------  11.6/11.6 MB 8.3 MB/s eta 0:00:01\n",
      "   ---------------------------------------- 11.6/11.6 MB 8.0 MB/s eta 0:00:00\n",
      "Installing collected packages: pandas, entsoe-py\n",
      "  Attempting uninstall: pandas\n",
      "    Found existing installation: pandas 1.5.3\n",
      "    Uninstalling pandas-1.5.3:\n",
      "      Successfully uninstalled pandas-1.5.3\n",
      "Successfully installed entsoe-py-0.6.19 pandas-2.2.3\n"
     ]
    },
    {
     "name": "stderr",
     "output_type": "stream",
     "text": [
      "ERROR: pip's dependency resolver does not currently take into account all the packages that are installed. This behaviour is the source of the following dependency conflicts.\n",
      "pandasai 2.4.2 requires pandas==1.5.3, but you have pandas 2.2.3 which is incompatible.\n"
     ]
    }
   ],
   "source": [
    "!pip install entsoe-py"
   ]
  },
  {
   "cell_type": "markdown",
   "id": "e6493988",
   "metadata": {},
   "source": [
    "# 1. Initial Setup & Testing"
   ]
  },
  {
   "cell_type": "code",
   "execution_count": 1,
   "id": "36078091",
   "metadata": {},
   "outputs": [],
   "source": [
    "#%% Import necessary libraries\n",
    "from entsoe import EntsoePandasClient\n",
    "import pandas as pd\n",
    "import numpy as np\n",
    "import seaborn as sns\n",
    "\n",
    "import matplotlib.pyplot as plt\n",
    "import plotly.express as px"
   ]
  },
  {
   "cell_type": "markdown",
   "id": "a29ead61",
   "metadata": {},
   "source": [
    "## 1.1. Initialize client  \n",
    "The API client is initialized with an API key to authenticate requests"
   ]
  },
  {
   "cell_type": "code",
   "execution_count": 3,
   "id": "d943740e",
   "metadata": {},
   "outputs": [],
   "source": [
    "#%% Initialize client\n",
    "API_KEY = \"0f2f4222-713f-49d2-85b7-04ddd5f2dc1c\"\n",
    "client = EntsoePandasClient(api_key=API_KEY)"
   ]
  },
  {
   "cell_type": "markdown",
   "id": "9e3dcfbd",
   "metadata": {},
   "source": [
    "## 1.2. Test Connection  \n",
    "This test ensures the API key is valid and the connection to ENTSO-E platform is working \n",
    "before proceeding with more complex queries.  \n",
    "A dictionary of country codes is defined mapping country names to their ENTSO-E bidding zone codes\n",
    "    - Includes Belgium, Netherlands, France, Germany/Luxembourg zone etc."
   ]
  },
  {
   "cell_type": "code",
   "execution_count": null,
   "id": "5cb09c59",
   "metadata": {},
   "outputs": [
    {
     "name": "stdout",
     "output_type": "stream",
     "text": [
      "✅ API connection successful!\n",
      "Retrieved 145 price points\n",
      "2024-01-01 00:00:00+01:00    0.10\n",
      "2024-01-01 01:00:00+01:00    0.01\n",
      "2024-01-01 02:00:00+01:00    0.00\n",
      "2024-01-01 03:00:00+01:00   -0.01\n",
      "2024-01-01 04:00:00+01:00   -0.03\n",
      "Freq: 60min, dtype: float64\n"
     ]
    },
    {
     "data": {
      "text/plain": [
       "True"
      ]
     },
     "execution_count": 7,
     "metadata": {},
     "output_type": "execute_result"
    }
   ],
   "source": [
    "def test_api_connection():\n",
    "    \"\"\"Test if API connection works\"\"\"\n",
    "    try:\n",
    "        # Test with a simple query - Belgian day-ahead prices for last week\n",
    "        start = pd.Timestamp('2024-01-01', tz='Europe/Brussels')\n",
    "        end = pd.Timestamp('2024-01-07', tz='Europe/Brussels')\n",
    "        \n",
    "        prices = client.query_day_ahead_prices('BE', start=start, end=end)\n",
    "        print(\"✅ API connection successful!\")\n",
    "        print(f\"Retrieved {len(prices)} price points\")\n",
    "        print(prices.head())\n",
    "        return True\n",
    "    except Exception as e:\n",
    "        print(f\"❌ API connection failed: {e}\")\n",
    "        return False\n",
    "\n",
    "# Run test\n",
    "test_api_connection()"
   ]
  },
  {
   "cell_type": "markdown",
   "id": "76d051fe",
   "metadata": {},
   "source": [
    "# 2. Core Data Extraction Functions  \n",
    "The ENTSO-E API provides access to different types of electricity market data. For our European Energy Market Analysis, we need three main data types:  \n",
    "\n",
    "1. **Day-Ahead Prices** - Electricity prices set one day before delivery\n",
    "2. **Cross-Border Flows** - Physical electricity flows between countries\n",
    "3. **Load Data** - Actual electricity consumption by country\n",
    "\n",
    "Let's extract them."
   ]
  },
  {
   "cell_type": "markdown",
   "id": "c65efd85",
   "metadata": {},
   "source": [
    "## 2.1. Day-Ahead Prices  \n",
    "In this subsection, a function is designed to fetch electricity pricing data from the ENTSO-E (European Network of Transmission System Operators for Electricity) platform for multiple European countries."
   ]
  },
  {
   "cell_type": "code",
   "execution_count": 15,
   "id": "bb3be4e7",
   "metadata": {},
   "outputs": [],
   "source": [
    "def get_day_ahead_prices(countries, start_date, end_date):\n",
    "    \"\"\"Extract day-ahead electricity prices for multiple countries from ENTSO-E platform.\n",
    "    \n",
    "    Args:\n",
    "        countries (dict): Dictionary mapping country names to their ENTSO-E bidding zone codes.\n",
    "            Example: {'Belgium': 'BE', 'France': 'FR'}\n",
    "        start_date (pd.Timestamp): Start date for data extraction, timezone-aware.\n",
    "        end_date (pd.Timestamp): End date for data extraction, timezone-aware.\n",
    "    \n",
    "    Returns:\n",
    "        dict: Dictionary containing pandas Series of day-ahead prices for each country.\n",
    "            Keys are country names, values are price series in EUR/MWh.\n",
    "            Example: {'Belgium': pd.Series(...), 'France': pd.Series(...)}\n",
    "    \n",
    "    Raises:\n",
    "        Exception: If API request fails for any country, error is printed but execution continues.\n",
    "    \n",
    "    Note:\n",
    "        - Prices are in EUR/MWh\n",
    "        - Data granularity is hourly\n",
    "        - Missing data points are possible due to API limitations\n",
    "    \"\"\"\n",
    "    prices_data = {}\n",
    "    \n",
    "    for country_name, country_code in countries.items():\n",
    "        try:\n",
    "            print(f\"Fetching day-ahead prices for {country_name}...\")\n",
    "            prices = client.query_day_ahead_prices(\n",
    "                country_code, \n",
    "                start=start_date, \n",
    "                end=end_date\n",
    "            )\n",
    "            prices_data[country_name] = prices\n",
    "            print(f\"✅ {country_name}: {len(prices)} records\")\n",
    "        except Exception as e:\n",
    "            print(f\"❌ Failed to get {country_name} data: {e}\")\n",
    "    \n",
    "    return prices_data"
   ]
  },
  {
   "cell_type": "markdown",
   "id": "e6902840",
   "metadata": {},
   "source": [
    "## 2.2. Cross-Border Flows  \n",
    "In this subsection, we focus on extracting cross-border physical electricity flows between European countries. \n",
    "These flows represent the actual electricity transferred between countries through interconnectors."
   ]
  },
  {
   "cell_type": "code",
   "execution_count": 16,
   "id": "ee50301b",
   "metadata": {},
   "outputs": [],
   "source": [
    "def get_cross_border_flows(from_country, to_country, start_date, end_date):\n",
    "    \"\"\"Extract physical electricity flows between two countries from ENTSO-E platform.\n",
    "    \n",
    "    Args:\n",
    "        from_country (str): ENTSO-E bidding zone code for source country (e.g., 'FR' for France)\n",
    "        to_country (str): ENTSO-E bidding zone code for destination country (e.g., 'BE' for Belgium)\n",
    "        start_date (pd.Timestamp): Start date for data extraction, timezone-aware\n",
    "        end_date (pd.Timestamp): End date for data extraction, timezone-aware\n",
    "    \n",
    "    Returns:\n",
    "        pd.Series: Time series of physical flows in MW (positive values indicate flow in specified direction).\n",
    "                  Returns None if request fails.\n",
    "    \n",
    "    Raises:\n",
    "        Exception: If API request fails, error is printed and None is returned.\n",
    "    \"\"\"\n",
    "    try:\n",
    "        flows = client.query_crossborder_flows(\n",
    "            from_country, to_country, \n",
    "            start=start_date, end=end_date\n",
    "        )\n",
    "        return flows\n",
    "    except Exception as e:\n",
    "        print(f\"Failed to get flows {from_country}->{to_country}: {e}\")\n",
    "        return None"
   ]
  },
  {
   "cell_type": "markdown",
   "id": "53a5d1bf",
   "metadata": {},
   "source": [
    "## 2.3. Load Data\n",
    "This subsection deals with extracting actual electricity consumption (load) data."
   ]
  },
  {
   "cell_type": "code",
   "execution_count": 12,
   "id": "03519971",
   "metadata": {},
   "outputs": [],
   "source": [
    "def get_actual_load(countries, start_date, end_date):\n",
    "    \"\"\"Extract actual electricity consumption (load) data for multiple countries from ENTSO-E platform.\n",
    "    \n",
    "    Args:\n",
    "        countries (dict): Dictionary mapping country names to their ENTSO-E bidding zone codes.\n",
    "            Example: {'Belgium': 'BE', 'France': 'FR'}\n",
    "        start_date (pd.Timestamp): Start date for data extraction, timezone-aware.\n",
    "        end_date (pd.Timestamp): End date for data extraction, timezone-aware.\n",
    "    \n",
    "    Returns:\n",
    "        dict: Dictionary containing pandas Series of actual load for each country.\n",
    "            Keys are country names, values are load series in MW.\n",
    "            Example: {'Belgium': pd.Series(...), 'France': pd.Series(...)}\n",
    "    \n",
    "    Raises:\n",
    "        Exception: If API request fails for any country, error is printed but execution continues.\n",
    "    \"\"\"\n",
    "    load_data = {}\n",
    "    \n",
    "    for country_name, country_code in countries.items():\n",
    "        try:\n",
    "            load = client.query_load(\n",
    "                country_code, \n",
    "                start=start_date, \n",
    "                end=end_date\n",
    "            )\n",
    "            load_data[country_name] = load\n",
    "            print(f\"✅ Load data for {country_name}: {len(load)} records\")\n",
    "        except Exception as e:\n",
    "            print(f\"❌ Failed to get load data for {country_name}: {e}\")\n",
    "    \n",
    "    return load_data"
   ]
  },
  {
   "cell_type": "code",
   "execution_count": 14,
   "id": "aea66fab",
   "metadata": {},
   "outputs": [
    {
     "name": "stdout",
     "output_type": "stream",
     "text": [
      "✅ Load data for Belgium: 576 records\n",
      "✅ Load data for Netherlands: 576 records\n",
      "✅ Load data for France: 144 records\n",
      "✅ Load data for Germany_Luxembourg: 576 records\n",
      "✅ Load data for Germany: 576 records\n",
      "✅ Load data for Luxembourg: 576 records\n"
     ]
    },
    {
     "data": {
      "text/plain": [
       "{'Belgium':                            Actual Load\n",
       " 2024-01-01 00:00:00+01:00       7521.0\n",
       " 2024-01-01 00:15:00+01:00       7456.0\n",
       " 2024-01-01 00:30:00+01:00       7425.0\n",
       " 2024-01-01 00:45:00+01:00       7344.0\n",
       " 2024-01-01 01:00:00+01:00       7335.0\n",
       " ...                                ...\n",
       " 2024-01-06 22:45:00+01:00       9199.0\n",
       " 2024-01-06 23:00:00+01:00       9307.0\n",
       " 2024-01-06 23:15:00+01:00       9201.0\n",
       " 2024-01-06 23:30:00+01:00       9200.0\n",
       " 2024-01-06 23:45:00+01:00       8965.0\n",
       " \n",
       " [576 rows x 1 columns],\n",
       " 'Netherlands':                            Actual Load\n",
       " 2024-01-01 00:00:00+01:00      11257.0\n",
       " 2024-01-01 00:15:00+01:00      11279.0\n",
       " 2024-01-01 00:30:00+01:00      11291.0\n",
       " 2024-01-01 00:45:00+01:00      11266.0\n",
       " 2024-01-01 01:00:00+01:00      11312.0\n",
       " ...                                ...\n",
       " 2024-01-06 22:45:00+01:00      13288.0\n",
       " 2024-01-06 23:00:00+01:00      13147.0\n",
       " 2024-01-06 23:15:00+01:00      12993.0\n",
       " 2024-01-06 23:30:00+01:00      12871.0\n",
       " 2024-01-06 23:45:00+01:00      12715.0\n",
       " \n",
       " [576 rows x 1 columns],\n",
       " 'France':                            Actual Load\n",
       " 2024-01-01 00:00:00+01:00      52847.0\n",
       " 2024-01-01 01:00:00+01:00      51600.0\n",
       " 2024-01-01 02:00:00+01:00      50992.0\n",
       " 2024-01-01 03:00:00+01:00      48187.0\n",
       " 2024-01-01 04:00:00+01:00      46479.0\n",
       " ...                                ...\n",
       " 2024-01-06 19:00:00+01:00      62440.0\n",
       " 2024-01-06 20:00:00+01:00      60172.0\n",
       " 2024-01-06 21:00:00+01:00      57888.0\n",
       " 2024-01-06 22:00:00+01:00      58732.0\n",
       " 2024-01-06 23:00:00+01:00      59165.0\n",
       " \n",
       " [144 rows x 1 columns],\n",
       " 'Germany_Luxembourg':                            Actual Load\n",
       " 2024-01-01 00:00:00+01:00      41015.0\n",
       " 2024-01-01 00:15:00+01:00      40718.0\n",
       " 2024-01-01 00:30:00+01:00      40583.0\n",
       " 2024-01-01 00:45:00+01:00      40023.0\n",
       " 2024-01-01 01:00:00+01:00      39745.0\n",
       " ...                                ...\n",
       " 2024-01-06 22:45:00+01:00      50528.0\n",
       " 2024-01-06 23:00:00+01:00      49739.0\n",
       " 2024-01-06 23:15:00+01:00      48978.0\n",
       " 2024-01-06 23:30:00+01:00      48337.0\n",
       " 2024-01-06 23:45:00+01:00      47446.0\n",
       " \n",
       " [576 rows x 1 columns],\n",
       " 'Germany':                            Actual Load\n",
       " 2024-01-01 00:00:00+01:00      40593.0\n",
       " 2024-01-01 00:15:00+01:00      40301.0\n",
       " 2024-01-01 00:30:00+01:00      40172.0\n",
       " 2024-01-01 00:45:00+01:00      39615.0\n",
       " 2024-01-01 01:00:00+01:00      39337.0\n",
       " ...                                ...\n",
       " 2024-01-06 22:45:00+01:00      50008.0\n",
       " 2024-01-06 23:00:00+01:00      49227.0\n",
       " 2024-01-06 23:15:00+01:00      48470.0\n",
       " 2024-01-06 23:30:00+01:00      47836.0\n",
       " 2024-01-06 23:45:00+01:00      46954.0\n",
       " \n",
       " [576 rows x 1 columns],\n",
       " 'Luxembourg':                            Actual Load\n",
       " 2024-01-01 00:00:00+01:00        423.0\n",
       " 2024-01-01 00:15:00+01:00        417.0\n",
       " 2024-01-01 00:30:00+01:00        411.0\n",
       " 2024-01-01 00:45:00+01:00        408.0\n",
       " 2024-01-01 01:00:00+01:00        408.0\n",
       " ...                                ...\n",
       " 2024-01-06 22:45:00+01:00        520.0\n",
       " 2024-01-06 23:00:00+01:00        512.0\n",
       " 2024-01-06 23:15:00+01:00        508.0\n",
       " 2024-01-06 23:30:00+01:00        501.0\n",
       " 2024-01-06 23:45:00+01:00        493.0\n",
       " \n",
       " [576 rows x 1 columns]}"
      ]
     },
     "execution_count": 14,
     "metadata": {},
     "output_type": "execute_result"
    }
   ],
   "source": [
    "get_actual_load(COUNTRIES, pd.Timestamp('2024-01-01', tz='Europe/Brussels'), \n",
    "                pd.Timestamp('2024-01-07', tz='Europe/Brussels'))"
   ]
  },
  {
   "cell_type": "markdown",
   "id": "2915ec2c",
   "metadata": {},
   "source": [
    "# 3. Sample Data Collection Script  \n",
    "This section is focused on European electricity market data collection and analysis. Instead of manually calling each function multiple times, this script orchestrates the entire data collection process for your European Energy Market Analysis project."
   ]
  },
  {
   "cell_type": "code",
   "execution_count": null,
   "id": "e0ccf479",
   "metadata": {},
   "outputs": [],
   "source": [
    "def collect_market_data(start_date='2023-01-01', end_date='2023-12-31'):\n",
    "    \"\"\"Collect comprehensive European electricity market data from ENTSO-E platform.\n",
    "    \n",
    "    Fetches three types of data:\n",
    "    1. Day-ahead electricity prices for all countries in COUNTRIES dict\n",
    "    2. Cross-border physical flows between Belgium and neighboring countries\n",
    "    3. Actual electricity load (consumption) data for all countries\n",
    "    \n",
    "    Args:\n",
    "        start_date (str): Start date in 'YYYY-MM-DD' format. Defaults to '2023-01-01'\n",
    "        end_date (str): End date in 'YYYY-MM-DD' format. Defaults to '2023-12-31'\n",
    "        \n",
    "    Returns:\n",
    "        dict: Dictionary containing three data types:\n",
    "            - 'prices': Day-ahead prices by country (EUR/MWh)\n",
    "            - 'flows': Cross-border flows between countries (MW)\n",
    "            - 'loads': Actual electricity consumption by country (MW)\n",
    "    \"\"\"\n",
    "    # Convert dates\n",
    "    start = pd.Timestamp(start_date, tz='Europe/Brussels')\n",
    "    end = pd.Timestamp(end_date, tz='Europe/Brussels')\n",
    "    \n",
    "    print(f\"Collecting data from {start_date} to {end_date}\")\n",
    "    print(\"=\" * 50)\n",
    "    \n",
    "    # 1. Day-ahead prices\n",
    "    print(\"1. Collecting day-ahead prices...\")\n",
    "    prices = get_day_ahead_prices(COUNTRIES, start, end)\n",
    "    \n",
    "    # 2. Cross-border flows (key connections to Belgium)\n",
    "    print(\"\\n2. Collecting cross-border flows...\")\n",
    "    flows = {}\n",
    "    key_connections = [\n",
    "        ('FR', 'BE'),  # France to Belgium\n",
    "        ('NL', 'BE'),  # Netherlands to Belgium  \n",
    "        ('DE_LU', 'BE'),  # Germany-Luxembourg to Belgium\n",
    "        ('BE', 'FR'),  # Belgium to France\n",
    "        ('BE', 'NL'),  # Belgium to Netherlands\n",
    "        ('BE', 'DE_LU')   # Belgium to Germany-Luxembourg\n",
    "    ]\n",
    "    \n",
    "    for from_c, to_c in key_connections:\n",
    "        flow_name = f\"{from_c}_to_{to_c}\"\n",
    "        flows[flow_name] = get_cross_border_flows(from_c, to_c, start, end)\n",
    "    \n",
    "    # 3. Load data\n",
    "    print(\"\\n3. Collecting load data...\")\n",
    "    loads = get_actual_load(COUNTRIES, start, end)\n",
    "    \n",
    "    return {\n",
    "        'prices': prices,\n",
    "        'flows': flows, \n",
    "        'loads': loads\n",
    "    }\n",
    "\n",
    "# Execute data collection\n",
    "# market_data = collect_market_data('2023-01-01', '2023-12-31')"
   ]
  },
  {
   "cell_type": "markdown",
   "id": "28f369ee",
   "metadata": {},
   "source": [
    "# 4. Data Processing & Analysis Preparation"
   ]
  },
  {
   "cell_type": "code",
   "execution_count": 19,
   "id": "fb09bc26",
   "metadata": {},
   "outputs": [],
   "source": [
    "def clean_and_prepare_data(market_data):\n",
    "    \"\"\"Clean and prepare data for analysis\"\"\"\n",
    "    \n",
    "    # Combine price data into single DataFrame\n",
    "    price_df = pd.DataFrame()\n",
    "    for country, prices in market_data['prices'].items():\n",
    "        if prices is not None:\n",
    "            temp_df = pd.DataFrame({\n",
    "                'datetime': prices.index,\n",
    "                'price': prices.values,\n",
    "                'country': country\n",
    "            })\n",
    "            price_df = pd.concat([price_df, temp_df])\n",
    "    \n",
    "    # Reset index and set datetime as index\n",
    "    price_df = price_df.reset_index(drop=True)\n",
    "    price_df['datetime'] = pd.to_datetime(price_df['datetime'])\n",
    "    price_df = price_df.set_index('datetime')\n",
    "    \n",
    "    return price_df\n",
    "\n",
    "# Example usage:\n",
    "# clean_data = clean_and_prepare_data(market_data)"
   ]
  },
  {
   "cell_type": "code",
   "execution_count": null,
   "id": "ce2f806c",
   "metadata": {},
   "outputs": [],
   "source": [
    "clean_and_prepare_data(get_day_ahead_prices(COUNTRIES, start_date='2023-01-01', end_date='2023-12-31'))"
   ]
  },
  {
   "cell_type": "code",
   "execution_count": null,
   "id": "770abd6e",
   "metadata": {},
   "outputs": [],
   "source": [
    "get_day_ahead_prices(COUNTRIES, start_date='2023-01-01', end_date='2023-12-31')"
   ]
  },
  {
   "cell_type": "code",
   "execution_count": 20,
   "id": "73c55351",
   "metadata": {},
   "outputs": [
    {
     "ename": "KeyboardInterrupt",
     "evalue": "",
     "output_type": "error",
     "traceback": [
      "\u001b[1;31m---------------------------------------------------------------------------\u001b[0m",
      "\u001b[1;31mKeyboardInterrupt\u001b[0m                         Traceback (most recent call last)",
      "Cell \u001b[1;32mIn[20], line 1\u001b[0m\n\u001b[1;32m----> 1\u001b[0m clean_and_prepare_data(get_day_ahead_prices(COUNTRIES, start_date\u001b[38;5;241m=\u001b[39m\u001b[38;5;124m'\u001b[39m\u001b[38;5;124m2023-01-01\u001b[39m\u001b[38;5;124m'\u001b[39m, end_date\u001b[38;5;241m=\u001b[39m\u001b[38;5;124m'\u001b[39m\u001b[38;5;124m2023-12-31\u001b[39m\u001b[38;5;124m'\u001b[39m))\n\u001b[0;32m      2\u001b[0m \u001b[38;5;28;01mdef\u001b[39;00m \u001b[38;5;21mvisualize_prices\u001b[39m(price_df):\n\u001b[0;32m      3\u001b[0m \u001b[38;5;250m    \u001b[39m\u001b[38;5;124;03m\"\"\"Visualize day-ahead prices using seaborn and plotly\"\"\"\u001b[39;00m\n",
      "Cell \u001b[1;32mIn[20], line 1\u001b[0m\n\u001b[1;32m----> 1\u001b[0m clean_and_prepare_data(get_day_ahead_prices(COUNTRIES, start_date\u001b[38;5;241m=\u001b[39m\u001b[38;5;124m'\u001b[39m\u001b[38;5;124m2023-01-01\u001b[39m\u001b[38;5;124m'\u001b[39m, end_date\u001b[38;5;241m=\u001b[39m\u001b[38;5;124m'\u001b[39m\u001b[38;5;124m2023-12-31\u001b[39m\u001b[38;5;124m'\u001b[39m))\n\u001b[0;32m      2\u001b[0m \u001b[38;5;28;01mdef\u001b[39;00m \u001b[38;5;21mvisualize_prices\u001b[39m(price_df):\n\u001b[0;32m      3\u001b[0m \u001b[38;5;250m    \u001b[39m\u001b[38;5;124;03m\"\"\"Visualize day-ahead prices using seaborn and plotly\"\"\"\u001b[39;00m\n",
      "File \u001b[1;32m_pydevd_bundle/pydevd_cython.pyx:1457\u001b[0m, in \u001b[0;36m_pydevd_bundle.pydevd_cython.SafeCallWrapper.__call__\u001b[1;34m()\u001b[0m\n",
      "File \u001b[1;32m_pydevd_bundle/pydevd_cython.pyx:701\u001b[0m, in \u001b[0;36m_pydevd_bundle.pydevd_cython.PyDBFrame.trace_dispatch\u001b[1;34m()\u001b[0m\n",
      "File \u001b[1;32m_pydevd_bundle/pydevd_cython.pyx:1152\u001b[0m, in \u001b[0;36m_pydevd_bundle.pydevd_cython.PyDBFrame.trace_dispatch\u001b[1;34m()\u001b[0m\n",
      "File \u001b[1;32m_pydevd_bundle/pydevd_cython.pyx:1135\u001b[0m, in \u001b[0;36m_pydevd_bundle.pydevd_cython.PyDBFrame.trace_dispatch\u001b[1;34m()\u001b[0m\n",
      "File \u001b[1;32m_pydevd_bundle/pydevd_cython.pyx:312\u001b[0m, in \u001b[0;36m_pydevd_bundle.pydevd_cython.PyDBFrame.do_wait_suspend\u001b[1;34m()\u001b[0m\n",
      "File \u001b[1;32mc:\\Users\\J-P-F\\anaconda3\\Lib\\site-packages\\debugpy\\_vendored\\pydevd\\pydevd.py:2070\u001b[0m, in \u001b[0;36mPyDB.do_wait_suspend\u001b[1;34m(self, thread, frame, event, arg, exception_type)\u001b[0m\n\u001b[0;32m   2067\u001b[0m             from_this_thread\u001b[38;5;241m.\u001b[39mappend(frame_custom_thread_id)\n\u001b[0;32m   2069\u001b[0m     \u001b[38;5;28;01mwith\u001b[39;00m \u001b[38;5;28mself\u001b[39m\u001b[38;5;241m.\u001b[39m_threads_suspended_single_notification\u001b[38;5;241m.\u001b[39mnotify_thread_suspended(thread_id, thread, stop_reason):\n\u001b[1;32m-> 2070\u001b[0m         keep_suspended \u001b[38;5;241m=\u001b[39m \u001b[38;5;28mself\u001b[39m\u001b[38;5;241m.\u001b[39m_do_wait_suspend(thread, frame, event, arg, suspend_type, from_this_thread, frames_tracker)\n\u001b[0;32m   2072\u001b[0m frames_list \u001b[38;5;241m=\u001b[39m \u001b[38;5;28;01mNone\u001b[39;00m\n\u001b[0;32m   2074\u001b[0m \u001b[38;5;28;01mif\u001b[39;00m keep_suspended:\n\u001b[0;32m   2075\u001b[0m     \u001b[38;5;66;03m# This means that we should pause again after a set next statement.\u001b[39;00m\n",
      "File \u001b[1;32mc:\\Users\\J-P-F\\anaconda3\\Lib\\site-packages\\debugpy\\_vendored\\pydevd\\pydevd.py:2106\u001b[0m, in \u001b[0;36mPyDB._do_wait_suspend\u001b[1;34m(self, thread, frame, event, arg, suspend_type, from_this_thread, frames_tracker)\u001b[0m\n\u001b[0;32m   2103\u001b[0m         \u001b[38;5;28mself\u001b[39m\u001b[38;5;241m.\u001b[39m_call_input_hook()\n\u001b[0;32m   2105\u001b[0m     \u001b[38;5;28mself\u001b[39m\u001b[38;5;241m.\u001b[39mprocess_internal_commands()\n\u001b[1;32m-> 2106\u001b[0m     time\u001b[38;5;241m.\u001b[39msleep(\u001b[38;5;241m0.01\u001b[39m)\n\u001b[0;32m   2108\u001b[0m \u001b[38;5;28mself\u001b[39m\u001b[38;5;241m.\u001b[39mcancel_async_evaluation(get_current_thread_id(thread), \u001b[38;5;28mstr\u001b[39m(\u001b[38;5;28mid\u001b[39m(frame)))\n\u001b[0;32m   2110\u001b[0m \u001b[38;5;66;03m# process any stepping instructions\u001b[39;00m\n",
      "\u001b[1;31mKeyboardInterrupt\u001b[0m: "
     ]
    }
   ],
   "source": [
    "clean_and_prepare_data(get_day_ahead_prices(COUNTRIES, start_date='2023-01-01', end_date='2023-12-31'))\n",
    "def visualize_prices(price_df):\n",
    "    \"\"\"Visualize day-ahead prices using seaborn and plotly\"\"\"\n",
    "    \n",
    "    # Seaborn line plot\n",
    "    plt.figure(figsize=(14, 7))\n",
    "    sns.lineplot(data=price_df, x=price_df.index, y='price', hue='country')\n",
    "    plt.title('Day-Ahead Electricity Prices by Country')\n",
    "    plt.xlabel('Date')\n",
    "    plt.ylabel('Price (EUR/MWh)')\n",
    "    plt.legend(title='Country')\n",
    "    plt.grid()\n",
    "    plt.show()\n",
    "    \n",
    "    # Plotly interactive plot\n",
    "    fig = px.line(price_df.reset_index(), x='datetime', y='price', color='country',\n",
    "                  title='Day-Ahead Electricity Prices by Country',\n",
    "                  labels={'datetime': 'Date', 'price': 'Price (EUR/MWh)', 'country': 'Country'})\n",
    "    fig.show()"
   ]
  }
 ],
 "metadata": {
  "kernelspec": {
   "display_name": "base",
   "language": "python",
   "name": "python3"
  },
  "language_info": {
   "codemirror_mode": {
    "name": "ipython",
    "version": 3
   },
   "file_extension": ".py",
   "mimetype": "text/x-python",
   "name": "python",
   "nbconvert_exporter": "python",
   "pygments_lexer": "ipython3",
   "version": "3.11.9"
  }
 },
 "nbformat": 4,
 "nbformat_minor": 5
}
